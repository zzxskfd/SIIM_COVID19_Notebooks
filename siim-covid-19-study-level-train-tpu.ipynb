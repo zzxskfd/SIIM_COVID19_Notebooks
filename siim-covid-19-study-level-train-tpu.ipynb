{
 "cells": [
  {
   "cell_type": "markdown",
   "source": [
    "# [SIIM-FISABIO-RSNA COVID-19 Detection](https://www.kaggle.com/c/siim-covid19-detection)\n",
    "> Identify and localize COVID-19 abnormalities on chest radiographs\n",
    "\n",
    "![](https://storage.googleapis.com/kaggle-competitions/kaggle/26680/logos/header.png)"
   ],
   "metadata": {
    "papermill": {
     "duration": 0.032715,
     "end_time": "2021-06-04T08:37:51.903233",
     "exception": false,
     "start_time": "2021-06-04T08:37:51.870518",
     "status": "completed"
    },
    "tags": []
   }
  },
  {
   "cell_type": "markdown",
   "source": [
    "# Initialize Environment"
   ],
   "metadata": {
    "papermill": {
     "duration": 0.029312,
     "end_time": "2021-06-04T08:37:52.148247",
     "exception": false,
     "start_time": "2021-06-04T08:37:52.118935",
     "status": "completed"
    },
    "tags": []
   }
  },
  {
   "cell_type": "code",
   "execution_count": 1,
   "source": [
    "# !pip install nbformat tensorflow_addons efficientnet >> /dev/null\n",
    "# !pip install efficientnet nbformat"
   ],
   "outputs": [],
   "metadata": {
    "_kg_hide-output": true,
    "execution": {
     "iopub.execute_input": "2021-06-04T08:37:52.213298Z",
     "iopub.status.busy": "2021-06-04T08:37:52.211554Z",
     "iopub.status.idle": "2021-06-04T08:38:01.881675Z",
     "shell.execute_reply": "2021-06-04T08:38:01.881001Z",
     "shell.execute_reply.started": "2021-05-28T07:43:05.11215Z"
    },
    "papermill": {
     "duration": 9.704123,
     "end_time": "2021-06-04T08:38:01.881881",
     "exception": false,
     "start_time": "2021-06-04T08:37:52.177758",
     "status": "completed"
    },
    "tags": []
   }
  },
  {
   "cell_type": "code",
   "execution_count": 2,
   "source": [
    "# !unzip -q dataset_zips/siimcovid19-512x512-tfrec-dataset.zip -d siimcovid19-512x512-tfrec-dataset/"
   ],
   "outputs": [],
   "metadata": {}
  },
  {
   "cell_type": "code",
   "execution_count": 3,
   "source": [
    "import pandas as pd, numpy as np, random,os, shutil\n",
    "from glob import glob\n",
    "# from kaggle_datasets import KaggleDatasets\n",
    "import tensorflow as tf, re, math\n",
    "import tensorflow.keras.backend as K\n",
    "from sklearn.model_selection import KFold\n",
    "from sklearn.metrics import roc_auc_score\n",
    "import matplotlib.pyplot as plt\n",
    "# import tensorflow_addons as tfa\n",
    "print('tf:',tf.__version__)"
   ],
   "outputs": [
    {
     "output_type": "stream",
     "name": "stdout",
     "text": [
      "tf: 2.0.0\n"
     ]
    }
   ],
   "metadata": {
    "execution": {
     "iopub.execute_input": "2021-06-04T08:38:01.951150Z",
     "iopub.status.busy": "2021-06-04T08:38:01.950331Z",
     "iopub.status.idle": "2021-06-04T08:38:10.094543Z",
     "shell.execute_reply": "2021-06-04T08:38:10.093986Z",
     "shell.execute_reply.started": "2021-05-28T07:43:13.861294Z"
    },
    "papermill": {
     "duration": 8.181894,
     "end_time": "2021-06-04T08:38:10.094689",
     "exception": false,
     "start_time": "2021-06-04T08:38:01.912795",
     "status": "completed"
    },
    "tags": []
   }
  },
  {
   "cell_type": "markdown",
   "source": [
    "# Configuration"
   ],
   "metadata": {
    "papermill": {
     "duration": 0.029891,
     "end_time": "2021-06-04T08:38:10.155973",
     "exception": false,
     "start_time": "2021-06-04T08:38:10.126082",
     "status": "completed"
    },
    "tags": []
   }
  },
  {
   "cell_type": "code",
   "execution_count": 4,
   "source": [
    "# USE VERBOSE=0 for silent, VERBOSE=1 for interactive, VERBOSE=2 for commit\n",
    "VERBOSE      = 0\n",
    "DISPLAY_PLOT = True\n",
    "\n",
    "# DEVICE = \"TPU\"\n",
    "DEVICE = \"GPU\"\n",
    "\n",
    "# USE DIFFERENT SEED FOR DIFFERENT STRATIFIED KFOLD\n",
    "SEED = 42\n",
    "\n",
    "# NUMBER OF FOLDS. USE 2, 5, 10\n",
    "FOLDS = 5\n",
    "\n",
    "# WHICH IMAGE SIZES TO LOAD EACH FOLD\n",
    "# CHOOSE 128, 192, 256, 384, 512, 512 \n",
    "IMG_SIZES = [[512, 512]]*FOLDS\n",
    "\n",
    "# BATCH SIZE AND EPOCHS\n",
    "BATCH_SIZES = [16]*FOLDS\n",
    "EPOCHS      = [12]*FOLDS\n",
    "\n",
    "# Which model to use?\n",
    "# MODEL_NAME = 'EFN'\n",
    "# MODEL_NAME = 'RSN'\n",
    "MODEL_NAME = 'INC'\n",
    "\n",
    "# WHICH EFFICIENTNET B? TO USE\n",
    "EFF_NETS = [7]*FOLDS\n",
    "\n",
    "# Augmentations\n",
    "AUGMENT   = True\n",
    "TRANSFORM = True\n",
    "\n",
    "# transformations\n",
    "ROT_    = 0.0\n",
    "SHR_    = 2.0\n",
    "HZOOM_  = 8.0\n",
    "WZOOM_  = 8.0\n",
    "HSHIFT_ = 8.0\n",
    "WSHIFT_ = 8.0\n",
    "\n",
    "# Dropout\n",
    "PROBABILITY = 0.75\n",
    "CT          = 8\n",
    "SZ          = 0.08\n",
    "\n",
    "#bri, contrast\n",
    "sat  = (0.7, 1.3)\n",
    "cont = (0.8, 1.2)\n",
    "bri  =  0.1\n",
    "\n",
    "# WEIGHTS FOR FOLD MODELS WHEN PREDICTING TEST\n",
    "WGTS = [1/FOLDS]*FOLDS\n",
    "\n",
    "# TEST TIME AUGMENTATION STEPS\n",
    "TTA = 1"
   ],
   "outputs": [],
   "metadata": {
    "_cell_guid": "79c7e3d0-c299-4dcb-8224-4455121ee9b0",
    "_uuid": "d629ff2d2480ee46fbb7e2d37f6b5fab8052498a",
    "execution": {
     "iopub.execute_input": "2021-06-04T08:38:10.226096Z",
     "iopub.status.busy": "2021-06-04T08:38:10.225332Z",
     "iopub.status.idle": "2021-06-04T08:38:10.228715Z",
     "shell.execute_reply": "2021-06-04T08:38:10.228198Z",
     "shell.execute_reply.started": "2021-05-28T07:43:21.12874Z"
    },
    "papermill": {
     "duration": 0.042943,
     "end_time": "2021-06-04T08:38:10.228883",
     "exception": false,
     "start_time": "2021-06-04T08:38:10.185940",
     "status": "completed"
    },
    "tags": []
   }
  },
  {
   "cell_type": "markdown",
   "source": [
    "# Reproducibility\n",
    "Not very helpful for **TPU** "
   ],
   "metadata": {
    "papermill": {
     "duration": 0.03011,
     "end_time": "2021-06-04T08:38:10.294713",
     "exception": false,
     "start_time": "2021-06-04T08:38:10.264603",
     "status": "completed"
    },
    "tags": []
   }
  },
  {
   "cell_type": "code",
   "execution_count": 5,
   "source": [
    "def seeding(SEED):\n",
    "    np.random.seed(SEED)\n",
    "    random.seed(SEED)\n",
    "    os.environ['PYTHONHASHSEED'] = str(SEED)\n",
    "    os.environ['TF_CUDNN_DETERMINISTIC'] = str(SEED)\n",
    "    tf.random.set_seed(SEED)\n",
    "    print('seeding done!!!')\n",
    "seeding(SEED)"
   ],
   "outputs": [
    {
     "output_type": "stream",
     "name": "stdout",
     "text": [
      "seeding done!!!\n"
     ]
    }
   ],
   "metadata": {
    "execution": {
     "iopub.execute_input": "2021-06-04T08:38:10.362231Z",
     "iopub.status.busy": "2021-06-04T08:38:10.361560Z",
     "iopub.status.idle": "2021-06-04T08:38:10.364273Z",
     "shell.execute_reply": "2021-06-04T08:38:10.364747Z",
     "shell.execute_reply.started": "2021-05-28T07:43:21.139711Z"
    },
    "papermill": {
     "duration": 0.039664,
     "end_time": "2021-06-04T08:38:10.364943",
     "exception": false,
     "start_time": "2021-06-04T08:38:10.325279",
     "status": "completed"
    },
    "tags": []
   }
  },
  {
   "cell_type": "markdown",
   "source": [
    "# TPU Configs"
   ],
   "metadata": {
    "papermill": {
     "duration": 0.030047,
     "end_time": "2021-06-04T08:38:10.425337",
     "exception": false,
     "start_time": "2021-06-04T08:38:10.395290",
     "status": "completed"
    },
    "tags": []
   }
  },
  {
   "cell_type": "code",
   "execution_count": 6,
   "source": [
    "if DEVICE == \"TPU\":\n",
    "    print(\"connecting to TPU...\")\n",
    "    try:\n",
    "        tpu = tf.distribute.cluster_resolver.TPUClusterResolver()\n",
    "        print('Running on TPU ', tpu.master())\n",
    "    except ValueError:\n",
    "        print(\"Could not connect to TPU\")\n",
    "        tpu = None\n",
    "\n",
    "    if tpu:\n",
    "        try:\n",
    "            print(\"initializing  TPU ...\")\n",
    "            tf.config.experimental_connect_to_cluster(tpu)\n",
    "            tf.tpu.experimental.initialize_tpu_system(tpu)\n",
    "            strategy = tf.distribute.experimental.TPUStrategy(tpu)\n",
    "            print(\"TPU initialized\")\n",
    "        except _:\n",
    "            print(\"failed to initialize TPU\")\n",
    "    else:\n",
    "        DEVICE = \"GPU\"\n",
    "\n",
    "if DEVICE != \"TPU\":\n",
    "    print(\"Using default strategy for CPU and single GPU\")\n",
    "    strategy = tf.distribute.get_strategy()\n",
    "\n",
    "if DEVICE == \"GPU\":\n",
    "    print(\"Num GPUs Available: \", len(tf.config.experimental.list_physical_devices('GPU')))\n",
    "    \n",
    "\n",
    "AUTO     = tf.data.experimental.AUTOTUNE\n",
    "REPLICAS = strategy.num_replicas_in_sync\n",
    "print(f'REPLICAS: {REPLICAS}')"
   ],
   "outputs": [
    {
     "output_type": "stream",
     "name": "stdout",
     "text": [
      "Using default strategy for CPU and single GPU\n",
      "Num GPUs Available:  1\n",
      "REPLICAS: 1\n"
     ]
    }
   ],
   "metadata": {
    "_kg_hide-input": true,
    "execution": {
     "iopub.execute_input": "2021-06-04T08:38:10.489767Z",
     "iopub.status.busy": "2021-06-04T08:38:10.489033Z",
     "iopub.status.idle": "2021-06-04T08:38:16.406034Z",
     "shell.execute_reply": "2021-06-04T08:38:16.405108Z",
     "shell.execute_reply.started": "2021-05-28T07:43:21.155909Z"
    },
    "papermill": {
     "duration": 5.950605,
     "end_time": "2021-06-04T08:38:16.406221",
     "exception": false,
     "start_time": "2021-06-04T08:38:10.455616",
     "status": "completed"
    },
    "tags": []
   }
  },
  {
   "cell_type": "markdown",
   "source": [
    "# Step 1: Preprocess"
   ],
   "metadata": {
    "papermill": {
     "duration": 0.032183,
     "end_time": "2021-06-04T08:38:16.472192",
     "exception": false,
     "start_time": "2021-06-04T08:38:16.440009",
     "status": "completed"
    },
    "tags": []
   }
  },
  {
   "cell_type": "code",
   "execution_count": 7,
   "source": [
    "# GCS_PATH = [None]*FOLDS\n",
    "# for i,k in enumerate(IMG_SIZES):\n",
    "#     GCS_PATH[i] = KaggleDatasets().get_gcs_path('siimcovid19-%ix%i-tfrec-dataset'%(k[0],k[1]))\n",
    "GCS_PATH = [None]*FOLDS\n",
    "for i,k in enumerate(IMG_SIZES):\n",
    "    GCS_PATH[i] = '/mnt/siim-covid19/siimcovid19-%ix%i-tfrec-dataset'%(k[0],k[1])\n",
    "files_train = np.sort(np.array(tf.io.gfile.glob(GCS_PATH[0] + '/train*.tfrec')))\n",
    "files_test  = np.sort(np.array(tf.io.gfile.glob(GCS_PATH[0] + '/test*.tfrec')))\n",
    "num_train_files = len(files_train)\n",
    "num_test_files  = len(files_test)\n",
    "print('train_files:',num_train_files)\n",
    "print('test_files:',num_test_files)"
   ],
   "outputs": [
    {
     "output_type": "stream",
     "name": "stdout",
     "text": [
      "train_files: 5\n",
      "test_files: 0\n"
     ]
    }
   ],
   "metadata": {
    "_kg_hide-input": true,
    "execution": {
     "iopub.execute_input": "2021-06-04T08:38:16.554020Z",
     "iopub.status.busy": "2021-06-04T08:38:16.553253Z",
     "iopub.status.idle": "2021-06-04T08:38:19.065018Z",
     "shell.execute_reply": "2021-06-04T08:38:19.065591Z",
     "shell.execute_reply.started": "2021-05-28T07:43:27.109495Z"
    },
    "papermill": {
     "duration": 2.560703,
     "end_time": "2021-06-04T08:38:19.065796",
     "exception": false,
     "start_time": "2021-06-04T08:38:16.505093",
     "status": "completed"
    },
    "tags": []
   }
  },
  {
   "cell_type": "markdown",
   "source": [
    "## Light EDA"
   ],
   "metadata": {
    "papermill": {
     "duration": 0.031513,
     "end_time": "2021-06-04T08:38:19.131629",
     "exception": false,
     "start_time": "2021-06-04T08:38:19.100116",
     "status": "completed"
    },
    "tags": []
   }
  },
  {
   "cell_type": "code",
   "execution_count": 8,
   "source": [
    "train_df = pd.read_csv('/mnt/siim-covid19/siim-covid19-yolov5-2class-labels/meta.csv')\n",
    "train_df.head(2)"
   ],
   "outputs": [
    {
     "output_type": "execute_result",
     "data": {
      "text/plain": [
       "                   id                                              boxes  \\\n",
       "0  000a312787f2_image  [{'x': 789.28836, 'y': 582.43035, 'width': 102...   \n",
       "1  000c3a3f293f_image                                                NaN   \n",
       "\n",
       "                                               label StudyInstanceUID  \\\n",
       "0  opacity 1 789.28836 582.43035 1815.94498 2499....     5776db0cec75   \n",
       "1                                     none 1 0 0 1 1     ff0879eb20ed   \n",
       "\n",
       "   Negative for Pneumonia  Typical Appearance  Indeterminate Appearance  \\\n",
       "0                       0                   1                         0   \n",
       "1                       1                   0                         0   \n",
       "\n",
       "   Atypical Appearance                                           filepath  \\\n",
       "0                    0  /kaggle/input/siim-covid19-detection/train/577...   \n",
       "1                    0  /kaggle/input/siim-covid19-detection/train/ff0...   \n",
       "\n",
       "       image_id  height  width  split  \\\n",
       "0  000a312787f2    3488   4256  train   \n",
       "1  000c3a3f293f    2320   2832  train   \n",
       "\n",
       "                                          image_path  class_label  \\\n",
       "0  /kaggle/input/siimcovid19-512-jpg-image-datase...            3   \n",
       "1  /kaggle/input/siimcovid19-512-jpg-image-datase...            0   \n",
       "\n",
       "               class_name                               label_path  \\\n",
       "0      Typical Appearance  /kaggle/working/labels/000a312787f2.txt   \n",
       "1  Negative for Pneumonia  /kaggle/working/labels/000c3a3f293f.txt   \n",
       "\n",
       "                                              bboxes  bbox_count  \n",
       "0  [[789.28836, 582.43035, 1026.65662, 1917.30292...           2  \n",
       "1                                                 []           0  "
      ],
      "text/html": [
       "<div>\n",
       "<style scoped>\n",
       "    .dataframe tbody tr th:only-of-type {\n",
       "        vertical-align: middle;\n",
       "    }\n",
       "\n",
       "    .dataframe tbody tr th {\n",
       "        vertical-align: top;\n",
       "    }\n",
       "\n",
       "    .dataframe thead th {\n",
       "        text-align: right;\n",
       "    }\n",
       "</style>\n",
       "<table border=\"1\" class=\"dataframe\">\n",
       "  <thead>\n",
       "    <tr style=\"text-align: right;\">\n",
       "      <th></th>\n",
       "      <th>id</th>\n",
       "      <th>boxes</th>\n",
       "      <th>label</th>\n",
       "      <th>StudyInstanceUID</th>\n",
       "      <th>Negative for Pneumonia</th>\n",
       "      <th>Typical Appearance</th>\n",
       "      <th>Indeterminate Appearance</th>\n",
       "      <th>Atypical Appearance</th>\n",
       "      <th>filepath</th>\n",
       "      <th>image_id</th>\n",
       "      <th>height</th>\n",
       "      <th>width</th>\n",
       "      <th>split</th>\n",
       "      <th>image_path</th>\n",
       "      <th>class_label</th>\n",
       "      <th>class_name</th>\n",
       "      <th>label_path</th>\n",
       "      <th>bboxes</th>\n",
       "      <th>bbox_count</th>\n",
       "    </tr>\n",
       "  </thead>\n",
       "  <tbody>\n",
       "    <tr>\n",
       "      <th>0</th>\n",
       "      <td>000a312787f2_image</td>\n",
       "      <td>[{'x': 789.28836, 'y': 582.43035, 'width': 102...</td>\n",
       "      <td>opacity 1 789.28836 582.43035 1815.94498 2499....</td>\n",
       "      <td>5776db0cec75</td>\n",
       "      <td>0</td>\n",
       "      <td>1</td>\n",
       "      <td>0</td>\n",
       "      <td>0</td>\n",
       "      <td>/kaggle/input/siim-covid19-detection/train/577...</td>\n",
       "      <td>000a312787f2</td>\n",
       "      <td>3488</td>\n",
       "      <td>4256</td>\n",
       "      <td>train</td>\n",
       "      <td>/kaggle/input/siimcovid19-512-jpg-image-datase...</td>\n",
       "      <td>3</td>\n",
       "      <td>Typical Appearance</td>\n",
       "      <td>/kaggle/working/labels/000a312787f2.txt</td>\n",
       "      <td>[[789.28836, 582.43035, 1026.65662, 1917.30292...</td>\n",
       "      <td>2</td>\n",
       "    </tr>\n",
       "    <tr>\n",
       "      <th>1</th>\n",
       "      <td>000c3a3f293f_image</td>\n",
       "      <td>NaN</td>\n",
       "      <td>none 1 0 0 1 1</td>\n",
       "      <td>ff0879eb20ed</td>\n",
       "      <td>1</td>\n",
       "      <td>0</td>\n",
       "      <td>0</td>\n",
       "      <td>0</td>\n",
       "      <td>/kaggle/input/siim-covid19-detection/train/ff0...</td>\n",
       "      <td>000c3a3f293f</td>\n",
       "      <td>2320</td>\n",
       "      <td>2832</td>\n",
       "      <td>train</td>\n",
       "      <td>/kaggle/input/siimcovid19-512-jpg-image-datase...</td>\n",
       "      <td>0</td>\n",
       "      <td>Negative for Pneumonia</td>\n",
       "      <td>/kaggle/working/labels/000c3a3f293f.txt</td>\n",
       "      <td>[]</td>\n",
       "      <td>0</td>\n",
       "    </tr>\n",
       "  </tbody>\n",
       "</table>\n",
       "</div>"
      ]
     },
     "metadata": {},
     "execution_count": 8
    }
   ],
   "metadata": {
    "execution": {
     "iopub.execute_input": "2021-06-04T08:38:19.199777Z",
     "iopub.status.busy": "2021-06-04T08:38:19.199129Z",
     "iopub.status.idle": "2021-06-04T08:38:19.376182Z",
     "shell.execute_reply": "2021-06-04T08:38:19.376696Z",
     "shell.execute_reply.started": "2021-05-28T07:43:29.20283Z"
    },
    "papermill": {
     "duration": 0.213931,
     "end_time": "2021-06-04T08:38:19.376897",
     "exception": false,
     "start_time": "2021-06-04T08:38:19.162966",
     "status": "completed"
    },
    "tags": []
   }
  },
  {
   "cell_type": "code",
   "execution_count": 9,
   "source": [
    "class_names = train_df.class_name.tolist(); class_labels = train_df.class_label.tolist()\n",
    "name2label = dict(set(zip(class_names, class_labels )))\n",
    "label2name = {v:k for k, v in name2label.items()}\n",
    "name2label"
   ],
   "outputs": [
    {
     "output_type": "execute_result",
     "data": {
      "text/plain": [
       "{'Indeterminate Appearance': 1,\n",
       " 'Negative for Pneumonia': 0,\n",
       " 'Atypical Appearance': 2,\n",
       " 'Typical Appearance': 3}"
      ]
     },
     "metadata": {},
     "execution_count": 9
    }
   ],
   "metadata": {
    "execution": {
     "iopub.execute_input": "2021-06-04T08:38:19.453124Z",
     "iopub.status.busy": "2021-06-04T08:38:19.452157Z",
     "iopub.status.idle": "2021-06-04T08:38:19.455995Z",
     "shell.execute_reply": "2021-06-04T08:38:19.456441Z",
     "shell.execute_reply.started": "2021-05-28T07:43:29.374735Z"
    },
    "papermill": {
     "duration": 0.047073,
     "end_time": "2021-06-04T08:38:19.456620",
     "exception": false,
     "start_time": "2021-06-04T08:38:19.409547",
     "status": "completed"
    },
    "tags": []
   }
  },
  {
   "cell_type": "markdown",
   "source": [
    "# Class Distribution\n",
    " "
   ],
   "metadata": {
    "papermill": {
     "duration": 0.033772,
     "end_time": "2021-06-04T08:38:19.524549",
     "exception": false,
     "start_time": "2021-06-04T08:38:19.490777",
     "status": "completed"
    },
    "tags": []
   }
  },
  {
   "cell_type": "code",
   "execution_count": 10,
   "source": [
    "# from plotly.offline import init_notebook_mode, iplot, plot\n",
    "# import plotly as py\n",
    "# import plotly.express as px\n",
    "# init_notebook_mode(connected=True)\n",
    "# import plotly.graph_objs as go\n",
    "\n",
    "# info = train_df.class_name.value_counts()\n",
    "# fig = go.Figure(data=[\n",
    "#     go.Bar(name=name2label[info.index.tolist()[idx]], \n",
    "#            y=[info[idx]],\n",
    "#            x=[info.index.tolist()[idx]],\n",
    "#            text = str(info[idx]),\n",
    "#            orientation='v',\n",
    "#            textposition='outside',) for idx in range(len(info))\n",
    "# ])\n",
    "# # Change the bar mode\n",
    "# fig.update_layout(\n",
    "#                   width=800,\n",
    "#                   height=600,\n",
    "#                   title=f'Class Distribution',\n",
    "#                   yaxis_title='Number of Images',\n",
    "#                   xaxis_title='Class Name',)\n",
    "# # iplot(fig)"
   ],
   "outputs": [],
   "metadata": {
    "_kg_hide-input": true,
    "execution": {
     "iopub.execute_input": "2021-06-04T08:38:19.593683Z",
     "iopub.status.busy": "2021-06-04T08:38:19.592623Z",
     "iopub.status.idle": "2021-06-04T08:38:22.050502Z",
     "shell.execute_reply": "2021-06-04T08:38:22.051022Z",
     "shell.execute_reply.started": "2021-05-28T07:43:29.387431Z"
    },
    "papermill": {
     "duration": 2.494124,
     "end_time": "2021-06-04T08:38:22.051195",
     "exception": false,
     "start_time": "2021-06-04T08:38:19.557071",
     "status": "completed"
    },
    "tags": []
   }
  },
  {
   "cell_type": "markdown",
   "source": [
    "# Step 2: Data Augmentation\n",
    "Used simple augmentations, some of them may hurt the model.\n",
    "* RandomFlip (Left-Right)\n",
    "* No Rotation\n",
    "* RandomBrightness\n",
    "* RndomContrast\n",
    "* Shear\n",
    "* Zoom\n",
    "* Coarsee Dropout/Cutout\n",
    "\n",
    "As this is not typical **image** data rather **signal** typical augmantation for **image** may do some damage"
   ],
   "metadata": {
    "papermill": {
     "duration": 0.03959,
     "end_time": "2021-06-04T08:38:22.131665",
     "exception": false,
     "start_time": "2021-06-04T08:38:22.092075",
     "status": "completed"
    },
    "tags": []
   }
  },
  {
   "cell_type": "code",
   "execution_count": 11,
   "source": [
    "def get_mat(rotation, shear, height_zoom, width_zoom, height_shift, width_shift):\n",
    "    # returns 3x3 transformmatrix which transforms indicies\n",
    "        \n",
    "    # CONVERT DEGREES TO RADIANS\n",
    "    rotation = math.pi * rotation / 180.\n",
    "    shear    = math.pi * shear    / 180.\n",
    "\n",
    "    def get_3x3_mat(lst):\n",
    "        return tf.reshape(tf.concat([lst],axis=0), [3,3])\n",
    "    \n",
    "    # ROTATION MATRIX\n",
    "    c1   = tf.math.cos(rotation)\n",
    "    s1   = tf.math.sin(rotation)\n",
    "    one  = tf.constant([1],dtype='float32')\n",
    "    zero = tf.constant([0],dtype='float32')\n",
    "    \n",
    "    rotation_matrix = get_3x3_mat([c1,   s1,   zero, \n",
    "                                   -s1,  c1,   zero, \n",
    "                                   zero, zero, one])    \n",
    "    # SHEAR MATRIX\n",
    "    c2 = tf.math.cos(shear)\n",
    "    s2 = tf.math.sin(shear)    \n",
    "    \n",
    "    shear_matrix = get_3x3_mat([one,  s2,   zero, \n",
    "                                zero, c2,   zero, \n",
    "                                zero, zero, one])        \n",
    "    # ZOOM MATRIX\n",
    "    zoom_matrix = get_3x3_mat([one/height_zoom, zero,           zero, \n",
    "                               zero,            one/width_zoom, zero, \n",
    "                               zero,            zero,           one])    \n",
    "    # SHIFT MATRIX\n",
    "    shift_matrix = get_3x3_mat([one,  zero, height_shift, \n",
    "                                zero, one,  width_shift, \n",
    "                                zero, zero, one])\n",
    "    \n",
    "    return K.dot(K.dot(rotation_matrix, shear_matrix), \n",
    "                 K.dot(zoom_matrix,     shift_matrix))\n",
    "\n",
    "\n",
    "def transform(image, DIM=IMG_SIZES[0]):    \n",
    "    # input image - is one image of size [dim,dim,3] not a batch of [b,dim,dim,3]\n",
    "    # output - image randomly rotated, sheared, zoomed, and shifted\n",
    "    \n",
    "    # fixed for non-square image thanks to Chris Deotte\n",
    "    \n",
    "    if DIM[0]!=DIM[1]:\n",
    "        pad = (DIM[0]-DIM[1])//2\n",
    "        image = tf.pad(image, [[0, 0], [pad, pad+1],[0, 0]])\n",
    "        \n",
    "    NEW_DIM = DIM[0]\n",
    "    \n",
    "    XDIM = NEW_DIM%2 #fix for size 331\n",
    "    \n",
    "    rot = ROT_ * tf.random.normal([1], dtype='float32')\n",
    "    shr = SHR_ * tf.random.normal([1], dtype='float32') \n",
    "    h_zoom = 1.0 + tf.random.normal([1], dtype='float32') / HZOOM_\n",
    "    w_zoom = 1.0 + tf.random.normal([1], dtype='float32') / WZOOM_\n",
    "    h_shift = HSHIFT_ * tf.random.normal([1], dtype='float32') \n",
    "    w_shift = WSHIFT_ * tf.random.normal([1], dtype='float32') \n",
    "\n",
    "    # GET TRANSFORMATION MATRIX\n",
    "    m = get_mat(rot,shr,h_zoom,w_zoom,h_shift,w_shift) \n",
    "\n",
    "    # LIST DESTINATION PIXEL INDICES\n",
    "    x   = tf.repeat(tf.range(NEW_DIM//2, -NEW_DIM//2,-1), NEW_DIM)\n",
    "    y   = tf.tile(tf.range(-NEW_DIM//2, NEW_DIM//2), [NEW_DIM])\n",
    "    z   = tf.ones([NEW_DIM*NEW_DIM], dtype='int32')\n",
    "    idx = tf.stack( [x,y,z] )\n",
    "    \n",
    "    # ROTATE DESTINATION PIXELS ONTO ORIGIN PIXELS\n",
    "    idx2 = K.dot(m, tf.cast(idx, dtype='float32'))\n",
    "    idx2 = K.cast(idx2, dtype='int32')\n",
    "    idx2 = K.clip(idx2, -NEW_DIM//2+XDIM+1, NEW_DIM//2)\n",
    "    \n",
    "    # FIND ORIGIN PIXEL VALUES           \n",
    "    idx3 = tf.stack([NEW_DIM//2-idx2[0,], NEW_DIM//2-1+idx2[1,]])\n",
    "    d    = tf.gather_nd(image, tf.transpose(idx3))\n",
    "    \n",
    "    if DIM[0]!=DIM[1]:\n",
    "        image = tf.reshape(d,[NEW_DIM, NEW_DIM,3])\n",
    "        image = image[:, pad:DIM[1]+pad,:]\n",
    "    image = tf.reshape(image, [*DIM, 3])\n",
    "        \n",
    "    return image"
   ],
   "outputs": [],
   "metadata": {
    "_kg_hide-input": true,
    "execution": {
     "iopub.execute_input": "2021-06-04T08:38:22.231389Z",
     "iopub.status.busy": "2021-06-04T08:38:22.226174Z",
     "iopub.status.idle": "2021-06-04T08:38:22.237392Z",
     "shell.execute_reply": "2021-06-04T08:38:22.236785Z",
     "shell.execute_reply.started": "2021-05-28T07:43:31.68837Z"
    },
    "papermill": {
     "duration": 0.065684,
     "end_time": "2021-06-04T08:38:22.237535",
     "exception": false,
     "start_time": "2021-06-04T08:38:22.171851",
     "status": "completed"
    },
    "tags": []
   }
  },
  {
   "cell_type": "markdown",
   "source": [
    "## Dropout\n",
    "check this [notebook](https://www.kaggle.com/c/siim-isic-melanoma-classification/discussion/169721) by chris for more explanation on **Coarse Dropout and Cutout**\n",
    "\n",
    "![](http://playagricola.com/Kaggle/drop-7-24.jpg)\n",
    "\n",
    "Coarse Dropout and Cutout augmentation are techniques to prevent **overfitting** and encourage generalization. They randomly remove rectangles from training images. By removing portions of the images, we challenge our models to pay attention to the entire image because it never knows what part of the image will be present. (This is similar and different to dropout layer within a **CNN**).\n",
    "\n",
    "* Cutout is the technique of removing 1 large rectangle of random size\n",
    "* Coarse dropout is the technique of removing many small rectanges of similar size.\n",
    "\n",
    "By changing the parameters below, we can have either coarse dropout or cutout. (For cutout, you'll need to add tf.random.uniform for random size. I leave this as an exercise for the reader."
   ],
   "metadata": {
    "papermill": {
     "duration": 0.038874,
     "end_time": "2021-06-04T08:38:22.316360",
     "exception": false,
     "start_time": "2021-06-04T08:38:22.277486",
     "status": "completed"
    },
    "tags": []
   }
  },
  {
   "cell_type": "code",
   "execution_count": 12,
   "source": [
    "def dropout(image,DIM=IMG_SIZES[0], PROBABILITY = 0.6, CT = 5, SZ = 0.1):\n",
    "    # input image - is one image of size [dim,dim,3] not a batch of [b,dim,dim,3]\n",
    "    # output - image with CT squares of side size SZ*DIM removed\n",
    "    \n",
    "    # DO DROPOUT WITH PROBABILITY DEFINED ABOVE\n",
    "    P = tf.cast( tf.random.uniform([],0,1)<PROBABILITY, tf.int32)\n",
    "    if (P==0)|(CT==0)|(SZ==0): \n",
    "        return image\n",
    "    \n",
    "    for k in range(CT):\n",
    "        # CHOOSE RANDOM LOCATION\n",
    "        x = tf.cast( tf.random.uniform([],0,DIM[1]),tf.int32)\n",
    "        y = tf.cast( tf.random.uniform([],0,DIM[0]),tf.int32)\n",
    "        # COMPUTE SQUARE \n",
    "        WIDTH = tf.cast( SZ*min(DIM),tf.int32) * P\n",
    "        ya = tf.math.maximum(0,y-WIDTH//2)\n",
    "        yb = tf.math.minimum(DIM[0],y+WIDTH//2)\n",
    "        xa = tf.math.maximum(0,x-WIDTH//2)\n",
    "        xb = tf.math.minimum(DIM[1],x+WIDTH//2)\n",
    "        # DROPOUT IMAGE\n",
    "        one = image[ya:yb,0:xa,:]\n",
    "        two = tf.zeros([yb-ya,xb-xa,3], dtype = image.dtype) \n",
    "        three = image[ya:yb,xb:DIM[1],:]\n",
    "        middle = tf.concat([one,two,three],axis=1)\n",
    "        image = tf.concat([image[0:ya,:,:],middle,image[yb:DIM[0],:,:]],axis=0) \n",
    "\n",
    "    image = tf.reshape(image,[*DIM,3])\n",
    "    return image"
   ],
   "outputs": [],
   "metadata": {
    "_kg_hide-input": true,
    "execution": {
     "iopub.execute_input": "2021-06-04T08:38:22.407027Z",
     "iopub.status.busy": "2021-06-04T08:38:22.406297Z",
     "iopub.status.idle": "2021-06-04T08:38:22.409779Z",
     "shell.execute_reply": "2021-06-04T08:38:22.409127Z",
     "shell.execute_reply.started": "2021-05-28T07:43:31.712103Z"
    },
    "papermill": {
     "duration": 0.054522,
     "end_time": "2021-06-04T08:38:22.409948",
     "exception": false,
     "start_time": "2021-06-04T08:38:22.355426",
     "status": "completed"
    },
    "tags": []
   }
  },
  {
   "cell_type": "markdown",
   "source": [
    "## Reading TFRecord Data"
   ],
   "metadata": {
    "papermill": {
     "duration": 0.039063,
     "end_time": "2021-06-04T08:38:22.488223",
     "exception": false,
     "start_time": "2021-06-04T08:38:22.449160",
     "status": "completed"
    },
    "tags": []
   }
  },
  {
   "cell_type": "code",
   "execution_count": 13,
   "source": [
    "def read_labeled_tfrecord(example):\n",
    "    tfrec_format = {\n",
    "        'image'                        : tf.io.FixedLenFeature([], tf.string),\n",
    "        'image_id'                     : tf.io.FixedLenFeature([], tf.string),\n",
    "        'target'                       : tf.io.FixedLenFeature([], tf.int64)\n",
    "    }           \n",
    "    example = tf.io.parse_single_example(example, tfrec_format)\n",
    "    return example['image'], tf.one_hot(example['target'], 4)\n",
    "\n",
    "\n",
    "def read_unlabeled_tfrecord(example, return_image_id):\n",
    "    tfrec_format = {\n",
    "        'image'                        : tf.io.FixedLenFeature([], tf.string),\n",
    "        'image_id'                     : tf.io.FixedLenFeature([], tf.string),\n",
    "    }\n",
    "    example = tf.io.parse_single_example(example, tfrec_format)\n",
    "    return example['image'], example['image_id'] if return_image_id else 0\n",
    "\n",
    " \n",
    "def prepare_image(img, augment=True, dim=IMG_SIZES[0]):    \n",
    "    img = tf.image.decode_jpeg(img, channels=3)\n",
    "    img = tf.cast(img, tf.float32)\n",
    "    img = img/255.0\n",
    "    \n",
    "    if augment:\n",
    "        img = transform(img,DIM=dim) if TRANSFORM else img\n",
    "        img = tf.image.random_flip_left_right(img)\n",
    "        #img = tf.image.random_hue(img, 0.01)\n",
    "        img = tf.image.random_saturation(img, sat[0], sat[1])\n",
    "        img = tf.image.random_contrast(img, cont[0], cont[1])\n",
    "        img = tf.image.random_brightness(img, bri)     \n",
    "                      \n",
    "    img = tf.reshape(img, [*dim, 3])\n",
    "            \n",
    "    return img\n",
    "\n",
    "def count_data_items(fileids):\n",
    "    n = [int(re.compile(r\"-([0-9]*)\\.\").search(fileid).group(1)) \n",
    "         for fileid in fileids]\n",
    "    return np.sum(n)"
   ],
   "outputs": [],
   "metadata": {
    "_kg_hide-input": true,
    "execution": {
     "iopub.execute_input": "2021-06-04T08:38:22.570625Z",
     "iopub.status.busy": "2021-06-04T08:38:22.569932Z",
     "iopub.status.idle": "2021-06-04T08:38:22.581707Z",
     "shell.execute_reply": "2021-06-04T08:38:22.582235Z",
     "shell.execute_reply.started": "2021-05-28T07:43:31.728419Z"
    },
    "papermill": {
     "duration": 0.054919,
     "end_time": "2021-06-04T08:38:22.582431",
     "exception": false,
     "start_time": "2021-06-04T08:38:22.527512",
     "status": "completed"
    },
    "tags": []
   }
  },
  {
   "cell_type": "markdown",
   "source": [
    "## Data Pipeline"
   ],
   "metadata": {
    "papermill": {
     "duration": 0.039755,
     "end_time": "2021-06-04T08:38:22.662458",
     "exception": false,
     "start_time": "2021-06-04T08:38:22.622703",
     "status": "completed"
    },
    "tags": []
   }
  },
  {
   "cell_type": "code",
   "execution_count": 14,
   "source": [
    "def get_dataset(files, augment = False, shuffle = False, repeat = False, \n",
    "                labeled=True, return_image_ids=True, batch_size=16, dim=IMG_SIZES[0]):\n",
    "    \n",
    "    ds = tf.data.TFRecordDataset(files, num_parallel_reads=AUTO)\n",
    "    ds = ds.cache()\n",
    "    \n",
    "    if repeat:\n",
    "        ds = ds.repeat()\n",
    "    \n",
    "    if shuffle: \n",
    "        ds = ds.shuffle(1024*2, seed=SEED)\n",
    "        opt = tf.data.Options()\n",
    "        opt.experimental_deterministic = False\n",
    "        ds = ds.with_options(opt)\n",
    "        \n",
    "    if labeled: \n",
    "        ds = ds.map(read_labeled_tfrecord, num_parallel_calls=AUTO)\n",
    "    else:\n",
    "        ds = ds.map(lambda example: read_unlabeled_tfrecord(example, return_image_ids), \n",
    "                    num_parallel_calls=AUTO)      \n",
    "    \n",
    "    ds = ds.map(lambda img, imgid_or_label: (prepare_image(img, augment=augment, dim=dim), \n",
    "                                               imgid_or_label), \n",
    "                num_parallel_calls=AUTO)\n",
    "    if labeled and augment:\n",
    "        ds = ds.map(lambda img, label: (dropout(img, DIM=dim, PROBABILITY = PROBABILITY, CT = CT, SZ = SZ), label),\n",
    "                    num_parallel_calls=AUTO)\n",
    "    \n",
    "    ds = ds.batch(batch_size * REPLICAS)\n",
    "    ds = ds.prefetch(AUTO)\n",
    "    return ds"
   ],
   "outputs": [],
   "metadata": {
    "_kg_hide-input": true,
    "execution": {
     "iopub.execute_input": "2021-06-04T08:38:22.744456Z",
     "iopub.status.busy": "2021-06-04T08:38:22.743716Z",
     "iopub.status.idle": "2021-06-04T08:38:22.753291Z",
     "shell.execute_reply": "2021-06-04T08:38:22.753810Z",
     "shell.execute_reply.started": "2021-05-28T07:43:31.745758Z"
    },
    "papermill": {
     "duration": 0.052381,
     "end_time": "2021-06-04T08:38:22.754018",
     "exception": false,
     "start_time": "2021-06-04T08:38:22.701637",
     "status": "completed"
    },
    "tags": []
   }
  },
  {
   "cell_type": "markdown",
   "source": [
    "## Visualization"
   ],
   "metadata": {
    "papermill": {
     "duration": 0.038985,
     "end_time": "2021-06-04T08:38:22.832708",
     "exception": false,
     "start_time": "2021-06-04T08:38:22.793723",
     "status": "completed"
    },
    "tags": []
   }
  },
  {
   "cell_type": "code",
   "execution_count": 15,
   "source": [
    "def display_batch(batch, size=2):\n",
    "    imgs, tars = batch\n",
    "    plt.figure(figsize=(size*5, 5))\n",
    "    for img_idx in range(size):\n",
    "        plt.subplot(1, size, img_idx+1)\n",
    "        plt.title(f'class: {label2name[tars[img_idx].numpy().argmax()]}', fontsize=15)\n",
    "        plt.imshow(imgs[img_idx,:, :, :])\n",
    "        plt.xticks([])\n",
    "        plt.yticks([])\n",
    "    plt.tight_layout()\n",
    "    plt.show() "
   ],
   "outputs": [],
   "metadata": {
    "_kg_hide-input": true,
    "execution": {
     "iopub.execute_input": "2021-06-04T08:38:22.917522Z",
     "iopub.status.busy": "2021-06-04T08:38:22.916833Z",
     "iopub.status.idle": "2021-06-04T08:38:22.922732Z",
     "shell.execute_reply": "2021-06-04T08:38:22.923238Z",
     "shell.execute_reply.started": "2021-05-28T07:43:31.76224Z"
    },
    "papermill": {
     "duration": 0.048958,
     "end_time": "2021-06-04T08:38:22.923427",
     "exception": false,
     "start_time": "2021-06-04T08:38:22.874469",
     "status": "completed"
    },
    "tags": []
   }
  },
  {
   "cell_type": "code",
   "execution_count": 16,
   "source": [
    "# fold = 0\n",
    "# ds = get_dataset(files_train, augment=True, shuffle=False, repeat=True,labeled=True,return_image_ids=True,\n",
    "#                 dim=IMG_SIZES[fold], batch_size = BATCH_SIZES[fold])\n",
    "# ds = ds.unbatch().batch(20)\n",
    "# batch = next(iter(ds))\n",
    "# display_batch(batch, 5);"
   ],
   "outputs": [],
   "metadata": {
    "execution": {
     "iopub.execute_input": "2021-06-04T08:38:23.006762Z",
     "iopub.status.busy": "2021-06-04T08:38:23.006092Z",
     "iopub.status.idle": "2021-06-04T08:38:28.945555Z",
     "shell.execute_reply": "2021-06-04T08:38:28.946085Z",
     "shell.execute_reply.started": "2021-05-28T07:43:31.777656Z"
    },
    "papermill": {
     "duration": 5.983512,
     "end_time": "2021-06-04T08:38:28.946270",
     "exception": false,
     "start_time": "2021-06-04T08:38:22.962758",
     "status": "completed"
    },
    "tags": []
   }
  },
  {
   "cell_type": "markdown",
   "source": [
    "## Step 3: Build Model\n",
    ">Though there have been some amazing development, **EFficientNet** always come up with a decent score.\n",
    "\n",
    "![EffNet](https://1.bp.blogspot.com/-MQO5qKuTT8c/XpdE8_IwpsI/AAAAAAAAFtg/mSjhF2ws5FYxwcHN6h9_l5DqYzQlNYJwwCLcBGAsYHQ/s1600/image1.png)\n",
    "\n",
    "You can try other models like, \n",
    "* Vision Transformer (ViT)\n",
    "* ResNet\n",
    "* InceptionNet\n",
    "* XceptionNet\n",
    "\n",
    "Unfortunately, I couldn't find any completed implementation of **NF-Net**, so couldn't include it here."
   ],
   "metadata": {
    "papermill": {
     "duration": 0.055663,
     "end_time": "2021-06-04T08:38:29.056464",
     "exception": false,
     "start_time": "2021-06-04T08:38:29.000801",
     "status": "completed"
    },
    "tags": []
   }
  },
  {
   "cell_type": "code",
   "execution_count": 17,
   "source": [
    "# import efficientnet.tfkeras as efn\n",
    "# EFNS = [efn.EfficientNetB0, efn.EfficientNetB1, efn.EfficientNetB2, efn.EfficientNetB3, \n",
    "#         efn.EfficientNetB4, efn.EfficientNetB5, efn.EfficientNetB6, efn.EfficientNetB7]\n",
    "\n",
    "# def base_model_efn(dim, ef):\n",
    "#     return EFNS[ef](input_shape=(*dim,3),weights='imagenet',include_top=False)\n",
    "def base_model_efn(dim, ef):\n",
    "    return None"
   ],
   "outputs": [],
   "metadata": {
    "execution": {
     "iopub.execute_input": "2021-06-04T08:38:29.178356Z",
     "iopub.status.busy": "2021-06-04T08:38:29.175693Z",
     "iopub.status.idle": "2021-06-04T08:38:29.181987Z",
     "shell.execute_reply": "2021-06-04T08:38:29.181171Z",
     "shell.execute_reply.started": "2021-05-28T07:43:41.231416Z"
    },
    "papermill": {
     "duration": 0.070241,
     "end_time": "2021-06-04T08:38:29.182153",
     "exception": false,
     "start_time": "2021-06-04T08:38:29.111912",
     "status": "completed"
    },
    "tags": []
   }
  },
  {
   "cell_type": "code",
   "execution_count": 18,
   "source": [
    "from tensorflow.keras.applications import ResNet50\n",
    "def base_model_rsn(dim):\n",
    "    return ResNet50(input_shape = (*dim, 3), include_top = False, weights = \"imagenet\")\n"
   ],
   "outputs": [],
   "metadata": {}
  },
  {
   "cell_type": "code",
   "execution_count": 19,
   "source": [
    "from tensorflow.keras.applications.inception_v3 import InceptionV3\n",
    "def base_model_inc(dim):\n",
    "    return InceptionV3(input_shape = (*dim, 3), include_top = False, weights = 'imagenet')"
   ],
   "outputs": [],
   "metadata": {}
  },
  {
   "cell_type": "code",
   "execution_count": 20,
   "source": [
    "def build_model(dim=IMG_SIZES[0], ef=0):\n",
    "    if (MODEL_NAME == 'EFN'):\n",
    "        base = base_model_efn(dim, ef)\n",
    "    if (MODEL_NAME == 'RSN'):\n",
    "        base = base_model_rsn(dim)\n",
    "    if (MODEL_NAME == 'INC'):\n",
    "        base = base_model_inc(dim)\n",
    "    # print('MODEL_NAME should be EFN, RSN, or INC')\n",
    "    # return None\n",
    "    inp = tf.keras.layers.Input(shape=(*dim,3))\n",
    "    x = base(inp)\n",
    "    x = tf.keras.layers.GlobalAveragePooling2D()(x)\n",
    "    x = tf.keras.layers.Dense(64, activation = 'relu')(x)\n",
    "    x = tf.keras.layers.Dense(4,activation='softmax')(x)\n",
    "    model = tf.keras.Model(inputs=inp,outputs=x)\n",
    "    opt = tf.keras.optimizers.Adam(learning_rate=0.001)\n",
    "    loss = tf.keras.losses.CategoricalCrossentropy(label_smoothing=0.01)\n",
    "    # auc = tf.keras.metrics.AUC(curve='ROC', multi_label=True)\n",
    "    auc = tf.keras.metrics.AUC(curve='ROC')\n",
    "    acc = tf.keras.metrics.CategoricalAccuracy()\n",
    "    # f1  = tfa.metrics.F1Score(num_classes=4,average='macro',threshold=None)\n",
    "    # model.compile(optimizer=opt,loss=loss,metrics=[auc, acc, f1])\n",
    "    model.compile(optimizer=opt,loss=loss,metrics=[auc, acc])\n",
    "\n",
    "    print('Successfully built and compiled model.')\n",
    "    return model"
   ],
   "outputs": [],
   "metadata": {}
  },
  {
   "cell_type": "markdown",
   "source": [
    "# Step 4: Train Schedule\n",
    "This is a common train schedule for transfer learning. The learning rate starts near zero, then increases to a maximum, then decays over time. Consider changing the schedule and/or learning rates. Note how the learning rate max is larger with larger batches sizes. This is a good practice to follow."
   ],
   "metadata": {
    "papermill": {
     "duration": 0.0545,
     "end_time": "2021-06-04T08:38:29.293138",
     "exception": false,
     "start_time": "2021-06-04T08:38:29.238638",
     "status": "completed"
    },
    "tags": []
   }
  },
  {
   "cell_type": "code",
   "execution_count": 21,
   "source": [
    "def get_lr_callback(batch_size=8, plot=False):\n",
    "    lr_start   = 0.000005\n",
    "    lr_max     = 0.00000125 * REPLICAS * batch_size\n",
    "    lr_min     = 0.000001\n",
    "    lr_ramp_ep = 5\n",
    "    lr_sus_ep  = 0\n",
    "    lr_decay   = 0.8\n",
    "   \n",
    "    def lrfn(epoch):\n",
    "        if epoch < lr_ramp_ep:\n",
    "            lr = (lr_max - lr_start) / lr_ramp_ep * epoch + lr_start\n",
    "            \n",
    "        elif epoch < lr_ramp_ep + lr_sus_ep:\n",
    "            lr = lr_max\n",
    "            \n",
    "        else:\n",
    "            lr = (lr_max - lr_min) * lr_decay**(epoch - lr_ramp_ep - lr_sus_ep) + lr_min\n",
    "            \n",
    "        return lr\n",
    "    if plot:\n",
    "        plt.figure(figsize=(10,5))\n",
    "        plt.plot(np.arange(EPOCHS[0]), [lrfn(epoch) for epoch in np.arange(EPOCHS[0])], marker='o')\n",
    "        plt.xlabel('epoch'); plt.ylabel('learnig rate')\n",
    "        plt.title('Learning Rate Scheduler')\n",
    "        plt.show()\n",
    "\n",
    "    lr_callback = tf.keras.callbacks.LearningRateScheduler(lrfn, verbose=False)\n",
    "    return lr_callback\n",
    "\n",
    "_=get_lr_callback(BATCH_SIZES[0], plot=True )"
   ],
   "outputs": [
    {
     "output_type": "display_data",
     "data": {
      "text/plain": [
       "<Figure size 720x360 with 1 Axes>"
      ],
      "image/svg+xml": "<?xml version=\"1.0\" encoding=\"utf-8\" standalone=\"no\"?>\n<!DOCTYPE svg PUBLIC \"-//W3C//DTD SVG 1.1//EN\"\n  \"http://www.w3.org/Graphics/SVG/1.1/DTD/svg11.dtd\">\n<!-- Created with matplotlib (https://matplotlib.org/) -->\n<svg height=\"331.674375pt\" version=\"1.1\" viewBox=\"0 0 640.79375 331.674375\" width=\"640.79375pt\" xmlns=\"http://www.w3.org/2000/svg\" xmlns:xlink=\"http://www.w3.org/1999/xlink\">\n <defs>\n  <style type=\"text/css\">\n*{stroke-linecap:butt;stroke-linejoin:round;}\n  </style>\n </defs>\n <g id=\"figure_1\">\n  <g id=\"patch_1\">\n   <path d=\"M 0 331.674375 \nL 640.79375 331.674375 \nL 640.79375 0 \nL 0 0 \nz\n\" style=\"fill:none;\"/>\n  </g>\n  <g id=\"axes_1\">\n   <g id=\"patch_2\">\n    <path d=\"M 75.59375 294.118125 \nL 633.59375 294.118125 \nL 633.59375 22.318125 \nL 75.59375 22.318125 \nz\n\" style=\"fill:#ffffff;\"/>\n   </g>\n   <g id=\"matplotlib.axis_1\">\n    <g id=\"xtick_1\">\n     <g id=\"line2d_1\">\n      <defs>\n       <path d=\"M 0 0 \nL 0 3.5 \n\" id=\"m03ca5df64a\" style=\"stroke:#000000;stroke-width:0.8;\"/>\n      </defs>\n      <g>\n       <use style=\"stroke:#000000;stroke-width:0.8;\" x=\"100.957386\" xlink:href=\"#m03ca5df64a\" y=\"294.118125\"/>\n      </g>\n     </g>\n     <g id=\"text_1\">\n      <!-- 0 -->\n      <defs>\n       <path d=\"M 31.78125 66.40625 \nQ 24.171875 66.40625 20.328125 58.90625 \nQ 16.5 51.421875 16.5 36.375 \nQ 16.5 21.390625 20.328125 13.890625 \nQ 24.171875 6.390625 31.78125 6.390625 \nQ 39.453125 6.390625 43.28125 13.890625 \nQ 47.125 21.390625 47.125 36.375 \nQ 47.125 51.421875 43.28125 58.90625 \nQ 39.453125 66.40625 31.78125 66.40625 \nz\nM 31.78125 74.21875 \nQ 44.046875 74.21875 50.515625 64.515625 \nQ 56.984375 54.828125 56.984375 36.375 \nQ 56.984375 17.96875 50.515625 8.265625 \nQ 44.046875 -1.421875 31.78125 -1.421875 \nQ 19.53125 -1.421875 13.0625 8.265625 \nQ 6.59375 17.96875 6.59375 36.375 \nQ 6.59375 54.828125 13.0625 64.515625 \nQ 19.53125 74.21875 31.78125 74.21875 \nz\n\" id=\"DejaVuSans-48\"/>\n      </defs>\n      <g transform=\"translate(97.776136 308.716563)scale(0.1 -0.1)\">\n       <use xlink:href=\"#DejaVuSans-48\"/>\n      </g>\n     </g>\n    </g>\n    <g id=\"xtick_2\">\n     <g id=\"line2d_2\">\n      <g>\n       <use style=\"stroke:#000000;stroke-width:0.8;\" x=\"193.188791\" xlink:href=\"#m03ca5df64a\" y=\"294.118125\"/>\n      </g>\n     </g>\n     <g id=\"text_2\">\n      <!-- 2 -->\n      <defs>\n       <path d=\"M 19.1875 8.296875 \nL 53.609375 8.296875 \nL 53.609375 0 \nL 7.328125 0 \nL 7.328125 8.296875 \nQ 12.9375 14.109375 22.625 23.890625 \nQ 32.328125 33.6875 34.8125 36.53125 \nQ 39.546875 41.84375 41.421875 45.53125 \nQ 43.3125 49.21875 43.3125 52.78125 \nQ 43.3125 58.59375 39.234375 62.25 \nQ 35.15625 65.921875 28.609375 65.921875 \nQ 23.96875 65.921875 18.8125 64.3125 \nQ 13.671875 62.703125 7.8125 59.421875 \nL 7.8125 69.390625 \nQ 13.765625 71.78125 18.9375 73 \nQ 24.125 74.21875 28.421875 74.21875 \nQ 39.75 74.21875 46.484375 68.546875 \nQ 53.21875 62.890625 53.21875 53.421875 \nQ 53.21875 48.921875 51.53125 44.890625 \nQ 49.859375 40.875 45.40625 35.40625 \nQ 44.1875 33.984375 37.640625 27.21875 \nQ 31.109375 20.453125 19.1875 8.296875 \nz\n\" id=\"DejaVuSans-50\"/>\n      </defs>\n      <g transform=\"translate(190.007541 308.716563)scale(0.1 -0.1)\">\n       <use xlink:href=\"#DejaVuSans-50\"/>\n      </g>\n     </g>\n    </g>\n    <g id=\"xtick_3\">\n     <g id=\"line2d_3\">\n      <g>\n       <use style=\"stroke:#000000;stroke-width:0.8;\" x=\"285.420196\" xlink:href=\"#m03ca5df64a\" y=\"294.118125\"/>\n      </g>\n     </g>\n     <g id=\"text_3\">\n      <!-- 4 -->\n      <defs>\n       <path d=\"M 37.796875 64.3125 \nL 12.890625 25.390625 \nL 37.796875 25.390625 \nz\nM 35.203125 72.90625 \nL 47.609375 72.90625 \nL 47.609375 25.390625 \nL 58.015625 25.390625 \nL 58.015625 17.1875 \nL 47.609375 17.1875 \nL 47.609375 0 \nL 37.796875 0 \nL 37.796875 17.1875 \nL 4.890625 17.1875 \nL 4.890625 26.703125 \nz\n\" id=\"DejaVuSans-52\"/>\n      </defs>\n      <g transform=\"translate(282.238946 308.716563)scale(0.1 -0.1)\">\n       <use xlink:href=\"#DejaVuSans-52\"/>\n      </g>\n     </g>\n    </g>\n    <g id=\"xtick_4\">\n     <g id=\"line2d_4\">\n      <g>\n       <use style=\"stroke:#000000;stroke-width:0.8;\" x=\"377.651601\" xlink:href=\"#m03ca5df64a\" y=\"294.118125\"/>\n      </g>\n     </g>\n     <g id=\"text_4\">\n      <!-- 6 -->\n      <defs>\n       <path d=\"M 33.015625 40.375 \nQ 26.375 40.375 22.484375 35.828125 \nQ 18.609375 31.296875 18.609375 23.390625 \nQ 18.609375 15.53125 22.484375 10.953125 \nQ 26.375 6.390625 33.015625 6.390625 \nQ 39.65625 6.390625 43.53125 10.953125 \nQ 47.40625 15.53125 47.40625 23.390625 \nQ 47.40625 31.296875 43.53125 35.828125 \nQ 39.65625 40.375 33.015625 40.375 \nz\nM 52.59375 71.296875 \nL 52.59375 62.3125 \nQ 48.875 64.0625 45.09375 64.984375 \nQ 41.3125 65.921875 37.59375 65.921875 \nQ 27.828125 65.921875 22.671875 59.328125 \nQ 17.53125 52.734375 16.796875 39.40625 \nQ 19.671875 43.65625 24.015625 45.921875 \nQ 28.375 48.1875 33.59375 48.1875 \nQ 44.578125 48.1875 50.953125 41.515625 \nQ 57.328125 34.859375 57.328125 23.390625 \nQ 57.328125 12.15625 50.6875 5.359375 \nQ 44.046875 -1.421875 33.015625 -1.421875 \nQ 20.359375 -1.421875 13.671875 8.265625 \nQ 6.984375 17.96875 6.984375 36.375 \nQ 6.984375 53.65625 15.1875 63.9375 \nQ 23.390625 74.21875 37.203125 74.21875 \nQ 40.921875 74.21875 44.703125 73.484375 \nQ 48.484375 72.75 52.59375 71.296875 \nz\n\" id=\"DejaVuSans-54\"/>\n      </defs>\n      <g transform=\"translate(374.470351 308.716563)scale(0.1 -0.1)\">\n       <use xlink:href=\"#DejaVuSans-54\"/>\n      </g>\n     </g>\n    </g>\n    <g id=\"xtick_5\">\n     <g id=\"line2d_5\">\n      <g>\n       <use style=\"stroke:#000000;stroke-width:0.8;\" x=\"469.883006\" xlink:href=\"#m03ca5df64a\" y=\"294.118125\"/>\n      </g>\n     </g>\n     <g id=\"text_5\">\n      <!-- 8 -->\n      <defs>\n       <path d=\"M 31.78125 34.625 \nQ 24.75 34.625 20.71875 30.859375 \nQ 16.703125 27.09375 16.703125 20.515625 \nQ 16.703125 13.921875 20.71875 10.15625 \nQ 24.75 6.390625 31.78125 6.390625 \nQ 38.8125 6.390625 42.859375 10.171875 \nQ 46.921875 13.96875 46.921875 20.515625 \nQ 46.921875 27.09375 42.890625 30.859375 \nQ 38.875 34.625 31.78125 34.625 \nz\nM 21.921875 38.8125 \nQ 15.578125 40.375 12.03125 44.71875 \nQ 8.5 49.078125 8.5 55.328125 \nQ 8.5 64.0625 14.71875 69.140625 \nQ 20.953125 74.21875 31.78125 74.21875 \nQ 42.671875 74.21875 48.875 69.140625 \nQ 55.078125 64.0625 55.078125 55.328125 \nQ 55.078125 49.078125 51.53125 44.71875 \nQ 48 40.375 41.703125 38.8125 \nQ 48.828125 37.15625 52.796875 32.3125 \nQ 56.78125 27.484375 56.78125 20.515625 \nQ 56.78125 9.90625 50.3125 4.234375 \nQ 43.84375 -1.421875 31.78125 -1.421875 \nQ 19.734375 -1.421875 13.25 4.234375 \nQ 6.78125 9.90625 6.78125 20.515625 \nQ 6.78125 27.484375 10.78125 32.3125 \nQ 14.796875 37.15625 21.921875 38.8125 \nz\nM 18.3125 54.390625 \nQ 18.3125 48.734375 21.84375 45.5625 \nQ 25.390625 42.390625 31.78125 42.390625 \nQ 38.140625 42.390625 41.71875 45.5625 \nQ 45.3125 48.734375 45.3125 54.390625 \nQ 45.3125 60.0625 41.71875 63.234375 \nQ 38.140625 66.40625 31.78125 66.40625 \nQ 25.390625 66.40625 21.84375 63.234375 \nQ 18.3125 60.0625 18.3125 54.390625 \nz\n\" id=\"DejaVuSans-56\"/>\n      </defs>\n      <g transform=\"translate(466.701756 308.716563)scale(0.1 -0.1)\">\n       <use xlink:href=\"#DejaVuSans-56\"/>\n      </g>\n     </g>\n    </g>\n    <g id=\"xtick_6\">\n     <g id=\"line2d_6\">\n      <g>\n       <use style=\"stroke:#000000;stroke-width:0.8;\" x=\"562.114411\" xlink:href=\"#m03ca5df64a\" y=\"294.118125\"/>\n      </g>\n     </g>\n     <g id=\"text_6\">\n      <!-- 10 -->\n      <defs>\n       <path d=\"M 12.40625 8.296875 \nL 28.515625 8.296875 \nL 28.515625 63.921875 \nL 10.984375 60.40625 \nL 10.984375 69.390625 \nL 28.421875 72.90625 \nL 38.28125 72.90625 \nL 38.28125 8.296875 \nL 54.390625 8.296875 \nL 54.390625 0 \nL 12.40625 0 \nz\n\" id=\"DejaVuSans-49\"/>\n      </defs>\n      <g transform=\"translate(555.751911 308.716563)scale(0.1 -0.1)\">\n       <use xlink:href=\"#DejaVuSans-49\"/>\n       <use x=\"63.623047\" xlink:href=\"#DejaVuSans-48\"/>\n      </g>\n     </g>\n    </g>\n    <g id=\"text_7\">\n     <!-- epoch -->\n     <defs>\n      <path d=\"M 56.203125 29.59375 \nL 56.203125 25.203125 \nL 14.890625 25.203125 \nQ 15.484375 15.921875 20.484375 11.0625 \nQ 25.484375 6.203125 34.421875 6.203125 \nQ 39.59375 6.203125 44.453125 7.46875 \nQ 49.3125 8.734375 54.109375 11.28125 \nL 54.109375 2.78125 \nQ 49.265625 0.734375 44.1875 -0.34375 \nQ 39.109375 -1.421875 33.890625 -1.421875 \nQ 20.796875 -1.421875 13.15625 6.1875 \nQ 5.515625 13.8125 5.515625 26.8125 \nQ 5.515625 40.234375 12.765625 48.109375 \nQ 20.015625 56 32.328125 56 \nQ 43.359375 56 49.78125 48.890625 \nQ 56.203125 41.796875 56.203125 29.59375 \nz\nM 47.21875 32.234375 \nQ 47.125 39.59375 43.09375 43.984375 \nQ 39.0625 48.390625 32.421875 48.390625 \nQ 24.90625 48.390625 20.390625 44.140625 \nQ 15.875 39.890625 15.1875 32.171875 \nz\n\" id=\"DejaVuSans-101\"/>\n      <path d=\"M 18.109375 8.203125 \nL 18.109375 -20.796875 \nL 9.078125 -20.796875 \nL 9.078125 54.6875 \nL 18.109375 54.6875 \nL 18.109375 46.390625 \nQ 20.953125 51.265625 25.265625 53.625 \nQ 29.59375 56 35.59375 56 \nQ 45.5625 56 51.78125 48.09375 \nQ 58.015625 40.1875 58.015625 27.296875 \nQ 58.015625 14.40625 51.78125 6.484375 \nQ 45.5625 -1.421875 35.59375 -1.421875 \nQ 29.59375 -1.421875 25.265625 0.953125 \nQ 20.953125 3.328125 18.109375 8.203125 \nz\nM 48.6875 27.296875 \nQ 48.6875 37.203125 44.609375 42.84375 \nQ 40.53125 48.484375 33.40625 48.484375 \nQ 26.265625 48.484375 22.1875 42.84375 \nQ 18.109375 37.203125 18.109375 27.296875 \nQ 18.109375 17.390625 22.1875 11.75 \nQ 26.265625 6.109375 33.40625 6.109375 \nQ 40.53125 6.109375 44.609375 11.75 \nQ 48.6875 17.390625 48.6875 27.296875 \nz\n\" id=\"DejaVuSans-112\"/>\n      <path d=\"M 30.609375 48.390625 \nQ 23.390625 48.390625 19.1875 42.75 \nQ 14.984375 37.109375 14.984375 27.296875 \nQ 14.984375 17.484375 19.15625 11.84375 \nQ 23.34375 6.203125 30.609375 6.203125 \nQ 37.796875 6.203125 41.984375 11.859375 \nQ 46.1875 17.53125 46.1875 27.296875 \nQ 46.1875 37.015625 41.984375 42.703125 \nQ 37.796875 48.390625 30.609375 48.390625 \nz\nM 30.609375 56 \nQ 42.328125 56 49.015625 48.375 \nQ 55.71875 40.765625 55.71875 27.296875 \nQ 55.71875 13.875 49.015625 6.21875 \nQ 42.328125 -1.421875 30.609375 -1.421875 \nQ 18.84375 -1.421875 12.171875 6.21875 \nQ 5.515625 13.875 5.515625 27.296875 \nQ 5.515625 40.765625 12.171875 48.375 \nQ 18.84375 56 30.609375 56 \nz\n\" id=\"DejaVuSans-111\"/>\n      <path d=\"M 48.78125 52.59375 \nL 48.78125 44.1875 \nQ 44.96875 46.296875 41.140625 47.34375 \nQ 37.3125 48.390625 33.40625 48.390625 \nQ 24.65625 48.390625 19.8125 42.84375 \nQ 14.984375 37.3125 14.984375 27.296875 \nQ 14.984375 17.28125 19.8125 11.734375 \nQ 24.65625 6.203125 33.40625 6.203125 \nQ 37.3125 6.203125 41.140625 7.25 \nQ 44.96875 8.296875 48.78125 10.40625 \nL 48.78125 2.09375 \nQ 45.015625 0.34375 40.984375 -0.53125 \nQ 36.96875 -1.421875 32.421875 -1.421875 \nQ 20.0625 -1.421875 12.78125 6.34375 \nQ 5.515625 14.109375 5.515625 27.296875 \nQ 5.515625 40.671875 12.859375 48.328125 \nQ 20.21875 56 33.015625 56 \nQ 37.15625 56 41.109375 55.140625 \nQ 45.0625 54.296875 48.78125 52.59375 \nz\n\" id=\"DejaVuSans-99\"/>\n      <path d=\"M 54.890625 33.015625 \nL 54.890625 0 \nL 45.90625 0 \nL 45.90625 32.71875 \nQ 45.90625 40.484375 42.875 44.328125 \nQ 39.84375 48.1875 33.796875 48.1875 \nQ 26.515625 48.1875 22.3125 43.546875 \nQ 18.109375 38.921875 18.109375 30.90625 \nL 18.109375 0 \nL 9.078125 0 \nL 9.078125 75.984375 \nL 18.109375 75.984375 \nL 18.109375 46.1875 \nQ 21.34375 51.125 25.703125 53.5625 \nQ 30.078125 56 35.796875 56 \nQ 45.21875 56 50.046875 50.171875 \nQ 54.890625 44.34375 54.890625 33.015625 \nz\n\" id=\"DejaVuSans-104\"/>\n     </defs>\n     <g transform=\"translate(339.365625 322.394687)scale(0.1 -0.1)\">\n      <use xlink:href=\"#DejaVuSans-101\"/>\n      <use x=\"61.523438\" xlink:href=\"#DejaVuSans-112\"/>\n      <use x=\"125\" xlink:href=\"#DejaVuSans-111\"/>\n      <use x=\"186.181641\" xlink:href=\"#DejaVuSans-99\"/>\n      <use x=\"241.162109\" xlink:href=\"#DejaVuSans-104\"/>\n     </g>\n    </g>\n   </g>\n   <g id=\"matplotlib.axis_2\">\n    <g id=\"ytick_1\">\n     <g id=\"line2d_7\">\n      <defs>\n       <path d=\"M 0 0 \nL -3.5 0 \n\" id=\"mf766bd8a9b\" style=\"stroke:#000000;stroke-width:0.8;\"/>\n      </defs>\n      <g>\n       <use style=\"stroke:#000000;stroke-width:0.8;\" x=\"75.59375\" xlink:href=\"#mf766bd8a9b\" y=\"265.290852\"/>\n      </g>\n     </g>\n     <g id=\"text_8\">\n      <!-- 0.000006 -->\n      <defs>\n       <path d=\"M 10.6875 12.40625 \nL 21 12.40625 \nL 21 0 \nL 10.6875 0 \nz\n\" id=\"DejaVuSans-46\"/>\n      </defs>\n      <g transform=\"translate(20.878125 269.090071)scale(0.1 -0.1)\">\n       <use xlink:href=\"#DejaVuSans-48\"/>\n       <use x=\"63.623047\" xlink:href=\"#DejaVuSans-46\"/>\n       <use x=\"95.410156\" xlink:href=\"#DejaVuSans-48\"/>\n       <use x=\"159.033203\" xlink:href=\"#DejaVuSans-48\"/>\n       <use x=\"222.65625\" xlink:href=\"#DejaVuSans-48\"/>\n       <use x=\"286.279297\" xlink:href=\"#DejaVuSans-48\"/>\n       <use x=\"349.902344\" xlink:href=\"#DejaVuSans-48\"/>\n       <use x=\"413.525391\" xlink:href=\"#DejaVuSans-54\"/>\n      </g>\n     </g>\n    </g>\n    <g id=\"ytick_2\">\n     <g id=\"line2d_8\">\n      <g>\n       <use style=\"stroke:#000000;stroke-width:0.8;\" x=\"75.59375\" xlink:href=\"#mf766bd8a9b\" y=\"232.345398\"/>\n      </g>\n     </g>\n     <g id=\"text_9\">\n      <!-- 0.000008 -->\n      <g transform=\"translate(20.878125 236.144616)scale(0.1 -0.1)\">\n       <use xlink:href=\"#DejaVuSans-48\"/>\n       <use x=\"63.623047\" xlink:href=\"#DejaVuSans-46\"/>\n       <use x=\"95.410156\" xlink:href=\"#DejaVuSans-48\"/>\n       <use x=\"159.033203\" xlink:href=\"#DejaVuSans-48\"/>\n       <use x=\"222.65625\" xlink:href=\"#DejaVuSans-48\"/>\n       <use x=\"286.279297\" xlink:href=\"#DejaVuSans-48\"/>\n       <use x=\"349.902344\" xlink:href=\"#DejaVuSans-48\"/>\n       <use x=\"413.525391\" xlink:href=\"#DejaVuSans-56\"/>\n      </g>\n     </g>\n    </g>\n    <g id=\"ytick_3\">\n     <g id=\"line2d_9\">\n      <g>\n       <use style=\"stroke:#000000;stroke-width:0.8;\" x=\"75.59375\" xlink:href=\"#mf766bd8a9b\" y=\"199.399943\"/>\n      </g>\n     </g>\n     <g id=\"text_10\">\n      <!-- 0.000010 -->\n      <g transform=\"translate(20.878125 203.199162)scale(0.1 -0.1)\">\n       <use xlink:href=\"#DejaVuSans-48\"/>\n       <use x=\"63.623047\" xlink:href=\"#DejaVuSans-46\"/>\n       <use x=\"95.410156\" xlink:href=\"#DejaVuSans-48\"/>\n       <use x=\"159.033203\" xlink:href=\"#DejaVuSans-48\"/>\n       <use x=\"222.65625\" xlink:href=\"#DejaVuSans-48\"/>\n       <use x=\"286.279297\" xlink:href=\"#DejaVuSans-48\"/>\n       <use x=\"349.902344\" xlink:href=\"#DejaVuSans-49\"/>\n       <use x=\"413.525391\" xlink:href=\"#DejaVuSans-48\"/>\n      </g>\n     </g>\n    </g>\n    <g id=\"ytick_4\">\n     <g id=\"line2d_10\">\n      <g>\n       <use style=\"stroke:#000000;stroke-width:0.8;\" x=\"75.59375\" xlink:href=\"#mf766bd8a9b\" y=\"166.454489\"/>\n      </g>\n     </g>\n     <g id=\"text_11\">\n      <!-- 0.000012 -->\n      <g transform=\"translate(20.878125 170.253707)scale(0.1 -0.1)\">\n       <use xlink:href=\"#DejaVuSans-48\"/>\n       <use x=\"63.623047\" xlink:href=\"#DejaVuSans-46\"/>\n       <use x=\"95.410156\" xlink:href=\"#DejaVuSans-48\"/>\n       <use x=\"159.033203\" xlink:href=\"#DejaVuSans-48\"/>\n       <use x=\"222.65625\" xlink:href=\"#DejaVuSans-48\"/>\n       <use x=\"286.279297\" xlink:href=\"#DejaVuSans-48\"/>\n       <use x=\"349.902344\" xlink:href=\"#DejaVuSans-49\"/>\n       <use x=\"413.525391\" xlink:href=\"#DejaVuSans-50\"/>\n      </g>\n     </g>\n    </g>\n    <g id=\"ytick_5\">\n     <g id=\"line2d_11\">\n      <g>\n       <use style=\"stroke:#000000;stroke-width:0.8;\" x=\"75.59375\" xlink:href=\"#mf766bd8a9b\" y=\"133.509034\"/>\n      </g>\n     </g>\n     <g id=\"text_12\">\n      <!-- 0.000014 -->\n      <g transform=\"translate(20.878125 137.308253)scale(0.1 -0.1)\">\n       <use xlink:href=\"#DejaVuSans-48\"/>\n       <use x=\"63.623047\" xlink:href=\"#DejaVuSans-46\"/>\n       <use x=\"95.410156\" xlink:href=\"#DejaVuSans-48\"/>\n       <use x=\"159.033203\" xlink:href=\"#DejaVuSans-48\"/>\n       <use x=\"222.65625\" xlink:href=\"#DejaVuSans-48\"/>\n       <use x=\"286.279297\" xlink:href=\"#DejaVuSans-48\"/>\n       <use x=\"349.902344\" xlink:href=\"#DejaVuSans-49\"/>\n       <use x=\"413.525391\" xlink:href=\"#DejaVuSans-52\"/>\n      </g>\n     </g>\n    </g>\n    <g id=\"ytick_6\">\n     <g id=\"line2d_12\">\n      <g>\n       <use style=\"stroke:#000000;stroke-width:0.8;\" x=\"75.59375\" xlink:href=\"#mf766bd8a9b\" y=\"100.56358\"/>\n      </g>\n     </g>\n     <g id=\"text_13\">\n      <!-- 0.000016 -->\n      <g transform=\"translate(20.878125 104.362798)scale(0.1 -0.1)\">\n       <use xlink:href=\"#DejaVuSans-48\"/>\n       <use x=\"63.623047\" xlink:href=\"#DejaVuSans-46\"/>\n       <use x=\"95.410156\" xlink:href=\"#DejaVuSans-48\"/>\n       <use x=\"159.033203\" xlink:href=\"#DejaVuSans-48\"/>\n       <use x=\"222.65625\" xlink:href=\"#DejaVuSans-48\"/>\n       <use x=\"286.279297\" xlink:href=\"#DejaVuSans-48\"/>\n       <use x=\"349.902344\" xlink:href=\"#DejaVuSans-49\"/>\n       <use x=\"413.525391\" xlink:href=\"#DejaVuSans-54\"/>\n      </g>\n     </g>\n    </g>\n    <g id=\"ytick_7\">\n     <g id=\"line2d_13\">\n      <g>\n       <use style=\"stroke:#000000;stroke-width:0.8;\" x=\"75.59375\" xlink:href=\"#mf766bd8a9b\" y=\"67.618125\"/>\n      </g>\n     </g>\n     <g id=\"text_14\">\n      <!-- 0.000018 -->\n      <g transform=\"translate(20.878125 71.417344)scale(0.1 -0.1)\">\n       <use xlink:href=\"#DejaVuSans-48\"/>\n       <use x=\"63.623047\" xlink:href=\"#DejaVuSans-46\"/>\n       <use x=\"95.410156\" xlink:href=\"#DejaVuSans-48\"/>\n       <use x=\"159.033203\" xlink:href=\"#DejaVuSans-48\"/>\n       <use x=\"222.65625\" xlink:href=\"#DejaVuSans-48\"/>\n       <use x=\"286.279297\" xlink:href=\"#DejaVuSans-48\"/>\n       <use x=\"349.902344\" xlink:href=\"#DejaVuSans-49\"/>\n       <use x=\"413.525391\" xlink:href=\"#DejaVuSans-56\"/>\n      </g>\n     </g>\n    </g>\n    <g id=\"ytick_8\">\n     <g id=\"line2d_14\">\n      <g>\n       <use style=\"stroke:#000000;stroke-width:0.8;\" x=\"75.59375\" xlink:href=\"#mf766bd8a9b\" y=\"34.67267\"/>\n      </g>\n     </g>\n     <g id=\"text_15\">\n      <!-- 0.000020 -->\n      <g transform=\"translate(20.878125 38.471889)scale(0.1 -0.1)\">\n       <use xlink:href=\"#DejaVuSans-48\"/>\n       <use x=\"63.623047\" xlink:href=\"#DejaVuSans-46\"/>\n       <use x=\"95.410156\" xlink:href=\"#DejaVuSans-48\"/>\n       <use x=\"159.033203\" xlink:href=\"#DejaVuSans-48\"/>\n       <use x=\"222.65625\" xlink:href=\"#DejaVuSans-48\"/>\n       <use x=\"286.279297\" xlink:href=\"#DejaVuSans-48\"/>\n       <use x=\"349.902344\" xlink:href=\"#DejaVuSans-50\"/>\n       <use x=\"413.525391\" xlink:href=\"#DejaVuSans-48\"/>\n      </g>\n     </g>\n    </g>\n    <g id=\"text_16\">\n     <!-- learnig rate -->\n     <defs>\n      <path d=\"M 9.421875 75.984375 \nL 18.40625 75.984375 \nL 18.40625 0 \nL 9.421875 0 \nz\n\" id=\"DejaVuSans-108\"/>\n      <path d=\"M 34.28125 27.484375 \nQ 23.390625 27.484375 19.1875 25 \nQ 14.984375 22.515625 14.984375 16.5 \nQ 14.984375 11.71875 18.140625 8.90625 \nQ 21.296875 6.109375 26.703125 6.109375 \nQ 34.1875 6.109375 38.703125 11.40625 \nQ 43.21875 16.703125 43.21875 25.484375 \nL 43.21875 27.484375 \nz\nM 52.203125 31.203125 \nL 52.203125 0 \nL 43.21875 0 \nL 43.21875 8.296875 \nQ 40.140625 3.328125 35.546875 0.953125 \nQ 30.953125 -1.421875 24.3125 -1.421875 \nQ 15.921875 -1.421875 10.953125 3.296875 \nQ 6 8.015625 6 15.921875 \nQ 6 25.140625 12.171875 29.828125 \nQ 18.359375 34.515625 30.609375 34.515625 \nL 43.21875 34.515625 \nL 43.21875 35.40625 \nQ 43.21875 41.609375 39.140625 45 \nQ 35.0625 48.390625 27.6875 48.390625 \nQ 23 48.390625 18.546875 47.265625 \nQ 14.109375 46.140625 10.015625 43.890625 \nL 10.015625 52.203125 \nQ 14.9375 54.109375 19.578125 55.046875 \nQ 24.21875 56 28.609375 56 \nQ 40.484375 56 46.34375 49.84375 \nQ 52.203125 43.703125 52.203125 31.203125 \nz\n\" id=\"DejaVuSans-97\"/>\n      <path d=\"M 41.109375 46.296875 \nQ 39.59375 47.171875 37.8125 47.578125 \nQ 36.03125 48 33.890625 48 \nQ 26.265625 48 22.1875 43.046875 \nQ 18.109375 38.09375 18.109375 28.8125 \nL 18.109375 0 \nL 9.078125 0 \nL 9.078125 54.6875 \nL 18.109375 54.6875 \nL 18.109375 46.1875 \nQ 20.953125 51.171875 25.484375 53.578125 \nQ 30.03125 56 36.53125 56 \nQ 37.453125 56 38.578125 55.875 \nQ 39.703125 55.765625 41.0625 55.515625 \nz\n\" id=\"DejaVuSans-114\"/>\n      <path d=\"M 54.890625 33.015625 \nL 54.890625 0 \nL 45.90625 0 \nL 45.90625 32.71875 \nQ 45.90625 40.484375 42.875 44.328125 \nQ 39.84375 48.1875 33.796875 48.1875 \nQ 26.515625 48.1875 22.3125 43.546875 \nQ 18.109375 38.921875 18.109375 30.90625 \nL 18.109375 0 \nL 9.078125 0 \nL 9.078125 54.6875 \nL 18.109375 54.6875 \nL 18.109375 46.1875 \nQ 21.34375 51.125 25.703125 53.5625 \nQ 30.078125 56 35.796875 56 \nQ 45.21875 56 50.046875 50.171875 \nQ 54.890625 44.34375 54.890625 33.015625 \nz\n\" id=\"DejaVuSans-110\"/>\n      <path d=\"M 9.421875 54.6875 \nL 18.40625 54.6875 \nL 18.40625 0 \nL 9.421875 0 \nz\nM 9.421875 75.984375 \nL 18.40625 75.984375 \nL 18.40625 64.59375 \nL 9.421875 64.59375 \nz\n\" id=\"DejaVuSans-105\"/>\n      <path d=\"M 45.40625 27.984375 \nQ 45.40625 37.75 41.375 43.109375 \nQ 37.359375 48.484375 30.078125 48.484375 \nQ 22.859375 48.484375 18.828125 43.109375 \nQ 14.796875 37.75 14.796875 27.984375 \nQ 14.796875 18.265625 18.828125 12.890625 \nQ 22.859375 7.515625 30.078125 7.515625 \nQ 37.359375 7.515625 41.375 12.890625 \nQ 45.40625 18.265625 45.40625 27.984375 \nz\nM 54.390625 6.78125 \nQ 54.390625 -7.171875 48.1875 -13.984375 \nQ 42 -20.796875 29.203125 -20.796875 \nQ 24.46875 -20.796875 20.265625 -20.09375 \nQ 16.0625 -19.390625 12.109375 -17.921875 \nL 12.109375 -9.1875 \nQ 16.0625 -11.328125 19.921875 -12.34375 \nQ 23.78125 -13.375 27.78125 -13.375 \nQ 36.625 -13.375 41.015625 -8.765625 \nQ 45.40625 -4.15625 45.40625 5.171875 \nL 45.40625 9.625 \nQ 42.625 4.78125 38.28125 2.390625 \nQ 33.9375 0 27.875 0 \nQ 17.828125 0 11.671875 7.65625 \nQ 5.515625 15.328125 5.515625 27.984375 \nQ 5.515625 40.671875 11.671875 48.328125 \nQ 17.828125 56 27.875 56 \nQ 33.9375 56 38.28125 53.609375 \nQ 42.625 51.21875 45.40625 46.390625 \nL 45.40625 54.6875 \nL 54.390625 54.6875 \nz\n\" id=\"DejaVuSans-103\"/>\n      <path id=\"DejaVuSans-32\"/>\n      <path d=\"M 18.3125 70.21875 \nL 18.3125 54.6875 \nL 36.8125 54.6875 \nL 36.8125 47.703125 \nL 18.3125 47.703125 \nL 18.3125 18.015625 \nQ 18.3125 11.328125 20.140625 9.421875 \nQ 21.96875 7.515625 27.59375 7.515625 \nL 36.8125 7.515625 \nL 36.8125 0 \nL 27.59375 0 \nQ 17.1875 0 13.234375 3.875 \nQ 9.28125 7.765625 9.28125 18.015625 \nL 9.28125 47.703125 \nL 2.6875 47.703125 \nL 2.6875 54.6875 \nL 9.28125 54.6875 \nL 9.28125 70.21875 \nz\n\" id=\"DejaVuSans-116\"/>\n     </defs>\n     <g transform=\"translate(14.798437 187.279844)rotate(-90)scale(0.1 -0.1)\">\n      <use xlink:href=\"#DejaVuSans-108\"/>\n      <use x=\"27.783203\" xlink:href=\"#DejaVuSans-101\"/>\n      <use x=\"89.306641\" xlink:href=\"#DejaVuSans-97\"/>\n      <use x=\"150.585938\" xlink:href=\"#DejaVuSans-114\"/>\n      <use x=\"191.683594\" xlink:href=\"#DejaVuSans-110\"/>\n      <use x=\"255.0625\" xlink:href=\"#DejaVuSans-105\"/>\n      <use x=\"282.845703\" xlink:href=\"#DejaVuSans-103\"/>\n      <use x=\"346.322266\" xlink:href=\"#DejaVuSans-32\"/>\n      <use x=\"378.109375\" xlink:href=\"#DejaVuSans-114\"/>\n      <use x=\"419.222656\" xlink:href=\"#DejaVuSans-97\"/>\n      <use x=\"480.501953\" xlink:href=\"#DejaVuSans-116\"/>\n      <use x=\"519.710938\" xlink:href=\"#DejaVuSans-101\"/>\n     </g>\n    </g>\n   </g>\n   <g id=\"line2d_15\">\n    <path clip-path=\"url(#paf6787bb5f)\" d=\"M 100.957386 281.76358 \nL 147.073089 232.345398 \nL 193.188791 182.927216 \nL 239.304494 133.509034 \nL 285.420196 84.090852 \nL 331.535899 34.67267 \nL 377.651601 97.269034 \nL 423.767304 147.346125 \nL 469.883006 187.407798 \nL 515.998709 219.457136 \nL 562.114411 245.096606 \nL 608.230114 265.608183 \n\" style=\"fill:none;stroke:#1f77b4;stroke-linecap:square;stroke-width:1.5;\"/>\n    <defs>\n     <path d=\"M 0 3 \nC 0.795609 3 1.55874 2.683901 2.12132 2.12132 \nC 2.683901 1.55874 3 0.795609 3 0 \nC 3 -0.795609 2.683901 -1.55874 2.12132 -2.12132 \nC 1.55874 -2.683901 0.795609 -3 0 -3 \nC -0.795609 -3 -1.55874 -2.683901 -2.12132 -2.12132 \nC -2.683901 -1.55874 -3 -0.795609 -3 0 \nC -3 0.795609 -2.683901 1.55874 -2.12132 2.12132 \nC -1.55874 2.683901 -0.795609 3 0 3 \nz\n\" id=\"m47facc9ab3\" style=\"stroke:#1f77b4;\"/>\n    </defs>\n    <g clip-path=\"url(#paf6787bb5f)\">\n     <use style=\"fill:#1f77b4;stroke:#1f77b4;\" x=\"100.957386\" xlink:href=\"#m47facc9ab3\" y=\"281.76358\"/>\n     <use style=\"fill:#1f77b4;stroke:#1f77b4;\" x=\"147.073089\" xlink:href=\"#m47facc9ab3\" y=\"232.345398\"/>\n     <use style=\"fill:#1f77b4;stroke:#1f77b4;\" x=\"193.188791\" xlink:href=\"#m47facc9ab3\" y=\"182.927216\"/>\n     <use style=\"fill:#1f77b4;stroke:#1f77b4;\" x=\"239.304494\" xlink:href=\"#m47facc9ab3\" y=\"133.509034\"/>\n     <use style=\"fill:#1f77b4;stroke:#1f77b4;\" x=\"285.420196\" xlink:href=\"#m47facc9ab3\" y=\"84.090852\"/>\n     <use style=\"fill:#1f77b4;stroke:#1f77b4;\" x=\"331.535899\" xlink:href=\"#m47facc9ab3\" y=\"34.67267\"/>\n     <use style=\"fill:#1f77b4;stroke:#1f77b4;\" x=\"377.651601\" xlink:href=\"#m47facc9ab3\" y=\"97.269034\"/>\n     <use style=\"fill:#1f77b4;stroke:#1f77b4;\" x=\"423.767304\" xlink:href=\"#m47facc9ab3\" y=\"147.346125\"/>\n     <use style=\"fill:#1f77b4;stroke:#1f77b4;\" x=\"469.883006\" xlink:href=\"#m47facc9ab3\" y=\"187.407798\"/>\n     <use style=\"fill:#1f77b4;stroke:#1f77b4;\" x=\"515.998709\" xlink:href=\"#m47facc9ab3\" y=\"219.457136\"/>\n     <use style=\"fill:#1f77b4;stroke:#1f77b4;\" x=\"562.114411\" xlink:href=\"#m47facc9ab3\" y=\"245.096606\"/>\n     <use style=\"fill:#1f77b4;stroke:#1f77b4;\" x=\"608.230114\" xlink:href=\"#m47facc9ab3\" y=\"265.608183\"/>\n    </g>\n   </g>\n   <g id=\"patch_3\">\n    <path d=\"M 75.59375 294.118125 \nL 75.59375 22.318125 \n\" style=\"fill:none;stroke:#000000;stroke-linecap:square;stroke-linejoin:miter;stroke-width:0.8;\"/>\n   </g>\n   <g id=\"patch_4\">\n    <path d=\"M 633.59375 294.118125 \nL 633.59375 22.318125 \n\" style=\"fill:none;stroke:#000000;stroke-linecap:square;stroke-linejoin:miter;stroke-width:0.8;\"/>\n   </g>\n   <g id=\"patch_5\">\n    <path d=\"M 75.59375 294.118125 \nL 633.59375 294.118125 \n\" style=\"fill:none;stroke:#000000;stroke-linecap:square;stroke-linejoin:miter;stroke-width:0.8;\"/>\n   </g>\n   <g id=\"patch_6\">\n    <path d=\"M 75.59375 22.318125 \nL 633.59375 22.318125 \n\" style=\"fill:none;stroke:#000000;stroke-linecap:square;stroke-linejoin:miter;stroke-width:0.8;\"/>\n   </g>\n   <g id=\"text_17\">\n    <!-- Learning Rate Scheduler -->\n    <defs>\n     <path d=\"M 9.8125 72.90625 \nL 19.671875 72.90625 \nL 19.671875 8.296875 \nL 55.171875 8.296875 \nL 55.171875 0 \nL 9.8125 0 \nz\n\" id=\"DejaVuSans-76\"/>\n     <path d=\"M 44.390625 34.1875 \nQ 47.5625 33.109375 50.5625 29.59375 \nQ 53.5625 26.078125 56.59375 19.921875 \nL 66.609375 0 \nL 56 0 \nL 46.6875 18.703125 \nQ 43.0625 26.03125 39.671875 28.421875 \nQ 36.28125 30.8125 30.421875 30.8125 \nL 19.671875 30.8125 \nL 19.671875 0 \nL 9.8125 0 \nL 9.8125 72.90625 \nL 32.078125 72.90625 \nQ 44.578125 72.90625 50.734375 67.671875 \nQ 56.890625 62.453125 56.890625 51.90625 \nQ 56.890625 45.015625 53.6875 40.46875 \nQ 50.484375 35.9375 44.390625 34.1875 \nz\nM 19.671875 64.796875 \nL 19.671875 38.921875 \nL 32.078125 38.921875 \nQ 39.203125 38.921875 42.84375 42.21875 \nQ 46.484375 45.515625 46.484375 51.90625 \nQ 46.484375 58.296875 42.84375 61.546875 \nQ 39.203125 64.796875 32.078125 64.796875 \nz\n\" id=\"DejaVuSans-82\"/>\n     <path d=\"M 53.515625 70.515625 \nL 53.515625 60.890625 \nQ 47.90625 63.578125 42.921875 64.890625 \nQ 37.9375 66.21875 33.296875 66.21875 \nQ 25.25 66.21875 20.875 63.09375 \nQ 16.5 59.96875 16.5 54.203125 \nQ 16.5 49.359375 19.40625 46.890625 \nQ 22.3125 44.4375 30.421875 42.921875 \nL 36.375 41.703125 \nQ 47.40625 39.59375 52.65625 34.296875 \nQ 57.90625 29 57.90625 20.125 \nQ 57.90625 9.515625 50.796875 4.046875 \nQ 43.703125 -1.421875 29.984375 -1.421875 \nQ 24.8125 -1.421875 18.96875 -0.25 \nQ 13.140625 0.921875 6.890625 3.21875 \nL 6.890625 13.375 \nQ 12.890625 10.015625 18.65625 8.296875 \nQ 24.421875 6.59375 29.984375 6.59375 \nQ 38.421875 6.59375 43.015625 9.90625 \nQ 47.609375 13.234375 47.609375 19.390625 \nQ 47.609375 24.75 44.3125 27.78125 \nQ 41.015625 30.8125 33.5 32.328125 \nL 27.484375 33.5 \nQ 16.453125 35.6875 11.515625 40.375 \nQ 6.59375 45.0625 6.59375 53.421875 \nQ 6.59375 63.09375 13.40625 68.65625 \nQ 20.21875 74.21875 32.171875 74.21875 \nQ 37.3125 74.21875 42.625 73.28125 \nQ 47.953125 72.359375 53.515625 70.515625 \nz\n\" id=\"DejaVuSans-83\"/>\n     <path d=\"M 45.40625 46.390625 \nL 45.40625 75.984375 \nL 54.390625 75.984375 \nL 54.390625 0 \nL 45.40625 0 \nL 45.40625 8.203125 \nQ 42.578125 3.328125 38.25 0.953125 \nQ 33.9375 -1.421875 27.875 -1.421875 \nQ 17.96875 -1.421875 11.734375 6.484375 \nQ 5.515625 14.40625 5.515625 27.296875 \nQ 5.515625 40.1875 11.734375 48.09375 \nQ 17.96875 56 27.875 56 \nQ 33.9375 56 38.25 53.625 \nQ 42.578125 51.265625 45.40625 46.390625 \nz\nM 14.796875 27.296875 \nQ 14.796875 17.390625 18.875 11.75 \nQ 22.953125 6.109375 30.078125 6.109375 \nQ 37.203125 6.109375 41.296875 11.75 \nQ 45.40625 17.390625 45.40625 27.296875 \nQ 45.40625 37.203125 41.296875 42.84375 \nQ 37.203125 48.484375 30.078125 48.484375 \nQ 22.953125 48.484375 18.875 42.84375 \nQ 14.796875 37.203125 14.796875 27.296875 \nz\n\" id=\"DejaVuSans-100\"/>\n     <path d=\"M 8.5 21.578125 \nL 8.5 54.6875 \nL 17.484375 54.6875 \nL 17.484375 21.921875 \nQ 17.484375 14.15625 20.5 10.265625 \nQ 23.53125 6.390625 29.59375 6.390625 \nQ 36.859375 6.390625 41.078125 11.03125 \nQ 45.3125 15.671875 45.3125 23.6875 \nL 45.3125 54.6875 \nL 54.296875 54.6875 \nL 54.296875 0 \nL 45.3125 0 \nL 45.3125 8.40625 \nQ 42.046875 3.421875 37.71875 1 \nQ 33.40625 -1.421875 27.6875 -1.421875 \nQ 18.265625 -1.421875 13.375 4.4375 \nQ 8.5 10.296875 8.5 21.578125 \nz\nM 31.109375 56 \nz\n\" id=\"DejaVuSans-117\"/>\n    </defs>\n    <g transform=\"translate(280.595 16.318125)scale(0.12 -0.12)\">\n     <use xlink:href=\"#DejaVuSans-76\"/>\n     <use x=\"55.697266\" xlink:href=\"#DejaVuSans-101\"/>\n     <use x=\"117.220703\" xlink:href=\"#DejaVuSans-97\"/>\n     <use x=\"178.5\" xlink:href=\"#DejaVuSans-114\"/>\n     <use x=\"219.597656\" xlink:href=\"#DejaVuSans-110\"/>\n     <use x=\"282.976562\" xlink:href=\"#DejaVuSans-105\"/>\n     <use x=\"310.759766\" xlink:href=\"#DejaVuSans-110\"/>\n     <use x=\"374.138672\" xlink:href=\"#DejaVuSans-103\"/>\n     <use x=\"437.615234\" xlink:href=\"#DejaVuSans-32\"/>\n     <use x=\"469.402344\" xlink:href=\"#DejaVuSans-82\"/>\n     <use x=\"538.853516\" xlink:href=\"#DejaVuSans-97\"/>\n     <use x=\"600.132812\" xlink:href=\"#DejaVuSans-116\"/>\n     <use x=\"639.341797\" xlink:href=\"#DejaVuSans-101\"/>\n     <use x=\"700.865234\" xlink:href=\"#DejaVuSans-32\"/>\n     <use x=\"732.652344\" xlink:href=\"#DejaVuSans-83\"/>\n     <use x=\"796.128906\" xlink:href=\"#DejaVuSans-99\"/>\n     <use x=\"851.109375\" xlink:href=\"#DejaVuSans-104\"/>\n     <use x=\"914.488281\" xlink:href=\"#DejaVuSans-101\"/>\n     <use x=\"976.011719\" xlink:href=\"#DejaVuSans-100\"/>\n     <use x=\"1039.488281\" xlink:href=\"#DejaVuSans-117\"/>\n     <use x=\"1102.867188\" xlink:href=\"#DejaVuSans-108\"/>\n     <use x=\"1130.650391\" xlink:href=\"#DejaVuSans-101\"/>\n     <use x=\"1192.173828\" xlink:href=\"#DejaVuSans-114\"/>\n    </g>\n   </g>\n  </g>\n </g>\n <defs>\n  <clipPath id=\"paf6787bb5f\">\n   <rect height=\"271.8\" width=\"558\" x=\"75.59375\" y=\"22.318125\"/>\n  </clipPath>\n </defs>\n</svg>\n",
      "image/png": "[encoded data removed]"
     },
     "metadata": {
      "needs_background": "light"
     }
    }
   ],
   "metadata": {
    "_kg_hide-input": true,
    "execution": {
     "iopub.execute_input": "2021-06-04T08:38:29.410117Z",
     "iopub.status.busy": "2021-06-04T08:38:29.409395Z",
     "iopub.status.idle": "2021-06-04T08:38:29.608023Z",
     "shell.execute_reply": "2021-06-04T08:38:29.607355Z",
     "shell.execute_reply.started": "2021-05-28T07:43:41.242632Z"
    },
    "papermill": {
     "duration": 0.257521,
     "end_time": "2021-06-04T08:38:29.608184",
     "exception": false,
     "start_time": "2021-06-04T08:38:29.350663",
     "status": "completed"
    },
    "tags": []
   }
  },
  {
   "cell_type": "markdown",
   "source": [
    "## Train Model\n",
    "* Our model will be trained for the number of `FOLDS` and `EPOCHS` you chose in the configuration above. Each fold the model with lowest validation `AUC` will be saved and used to predict OOF and test. \n",
    "* Adjust the variables `VERBOSE` and `DISPLOY_PLOT` below to determine what output you want displayed. The variable `VERBOSE=1 or 2` will display the training and validation loss and auc for each epoch as text. The variable `DISPLAY_PLOT` shows this information as a plot. "
   ],
   "metadata": {
    "papermill": {
     "duration": 0.056725,
     "end_time": "2021-06-04T08:38:29.724151",
     "exception": false,
     "start_time": "2021-06-04T08:38:29.667426",
     "status": "completed"
    },
    "tags": []
   }
  },
  {
   "cell_type": "code",
   "execution_count": 22,
   "source": [
    "skf = KFold(n_splits=FOLDS,shuffle=True,random_state=SEED)\n",
    "oof_pred = []; oof_tar = []; oof_val = []; oof_f1 = []; oof_ids = []; oof_folds = [] \n",
    "#preds = np.zeros((count_data_items(files_test),1))\n",
    "\n",
    "for fold,(idxT,idxV) in enumerate(skf.split(np.arange(num_train_files))):\n",
    "    # DISPLAY FOLD INFO\n",
    "    if DEVICE=='TPU':\n",
    "        if tpu: tf.tpu.experimental.initialize_tpu_system(tpu)\n",
    "    \n",
    "    # CREATE TRAIN AND VALIDATION SUBSETS\n",
    "    files_train = tf.io.gfile.glob([GCS_PATH[fold] + '/train%.2i*.tfrec'%x for x in idxT])\n",
    "    np.random.shuffle(files_train);\n",
    "    files_valid = tf.io.gfile.glob([GCS_PATH[fold] + '/train%.2i*.tfrec'%x for x in idxV])\n",
    "    files_test = np.sort(np.array(tf.io.gfile.glob(GCS_PATH[fold] + '/test*.tfrec')))\n",
    "    \n",
    "    print('#'*25); print('#### FOLD',fold+1)\n",
    "    # print('#### Image Size: (%i, %i) | model: %s | batch_size %i'%\n",
    "    #       (IMG_SIZES[fold][0],IMG_SIZES[fold][1],EFNS[EFF_NETS[fold]].__name__,BATCH_SIZES[fold]*REPLICAS))\n",
    "    print('#### Image Size: (%i, %i) | model: %s | batch_size %i'%\n",
    "        (IMG_SIZES[fold][0],IMG_SIZES[fold][1],MODEL_NAME,BATCH_SIZES[fold]*REPLICAS))\n",
    "    train_images = count_data_items(files_train)\n",
    "    val_images   = count_data_items(files_valid)\n",
    "    print('#### Training: %i | Validation: %i'%(train_images, val_images))\n",
    "    \n",
    "    # BUILD MODEL\n",
    "    K.clear_session()\n",
    "    with strategy.scope():\n",
    "        model = build_model(dim=IMG_SIZES[fold],ef=EFF_NETS[fold])\n",
    "    print('#'*25)   \n",
    "    # SAVE BEST MODEL EACH FOLD\n",
    "    sv = tf.keras.callbacks.ModelCheckpoint(\n",
    "        '/mnt/siim-covid19/output/weights_study/' + MODEL_NAME + ('/_fold_%i.h5'%(fold)),\n",
    "        monitor='val_auc', verbose=0, save_best_only=True,\n",
    "        save_weights_only=True, mode='max', save_freq='epoch')\n",
    "   \n",
    "    # TRAIN\n",
    "    print('Training...')\n",
    "    history = model.fit(\n",
    "        get_dataset(files_train, augment=AUGMENT, shuffle=True, repeat=True,\n",
    "                dim=IMG_SIZES[fold], batch_size = BATCH_SIZES[fold]), \n",
    "        epochs=EPOCHS[fold], \n",
    "        callbacks = [sv,get_lr_callback(BATCH_SIZES[fold])], \n",
    "        steps_per_epoch=count_data_items(files_train)/BATCH_SIZES[fold]//REPLICAS,\n",
    "        validation_data=get_dataset(files_valid,augment=False,shuffle=False,\n",
    "                repeat=False,dim=IMG_SIZES[fold]), \n",
    "        #class_weight = {0:1,1:2},\n",
    "        verbose=VERBOSE\n",
    "    )\n",
    "    \n",
    "    # Loading best model for inference\n",
    "    print('Loading best model...')\n",
    "    model.load_weights('fold-%i.h5'%fold)  \n",
    "    \n",
    "    # PREDICT OOF USING TTA\n",
    "    print('Predicting OOF with TTA...')\n",
    "    ds_valid = get_dataset(files_valid,labeled=False,return_image_ids=False,augment=AUGMENT if TTA>1 else False,\n",
    "            repeat=True,shuffle=False,dim=IMG_SIZES[fold],batch_size=BATCH_SIZES[fold]*2)\n",
    "    ct_valid = count_data_items(files_valid); STEPS = TTA * ct_valid/BATCH_SIZES[fold]/2/REPLICAS\n",
    "    pred = model.predict(ds_valid,steps=STEPS,verbose=VERBOSE)[:TTA*ct_valid,] \n",
    "    oof_pred.append( np.mean(pred.reshape((ct_valid,4,TTA),order='F'),axis=-1) )                 \n",
    "    \n",
    "    # GET OOF TARGETS AND idS\n",
    "    ds_valid = get_dataset(files_valid, augment=False, repeat=False, dim=IMG_SIZES[fold],\n",
    "            labeled=True, return_image_ids=True)\n",
    "    oof_tar.append( np.array([target.numpy() for img, target in iter(ds_valid.unbatch())]) )\n",
    "    oof_folds.append( np.ones_like(oof_tar[-1],dtype='int8')*fold )\n",
    "    ds = get_dataset(files_valid, augment=False, repeat=False, dim=IMG_SIZES[fold],\n",
    "                labeled=False, return_image_ids=True)\n",
    "    oof_ids.append( np.array([img_id.numpy().decode(\"utf-8\") for img, img_id in iter(ds.unbatch())]))\n",
    "    \n",
    "#     # PREDICT TEST USING TTA\n",
    "#     print('Predicting Test with TTA...')\n",
    "#     ds_test = get_dataset(files_test,labeled=False,return_image_ids=False,augment=AUGMENT,\n",
    "#             repeat=True,shuffle=False,dim=IMG_SIZES[fold],batch_size=BATCH_SIZES[fold]*2)\n",
    "#     ct_test = count_data_items(files_test); STEPS = TTA * ct_test/BATCH_SIZES[fold]/2/REPLICAS\n",
    "#     pred = model.predict(ds_test,steps=STEPS,verbose=VERBOSE)[:TTA*ct_test,] \n",
    "#     preds[:,0] += np.mean(pred.reshape((ct_test,TTA),order='F'),axis=1) * WGTS[fold]\n",
    "    \n",
    "    # REPORT RESULTS\n",
    "    auc = roc_auc_score(oof_tar[-1],oof_pred[-1], average='macro')\n",
    "    oof_val.append(np.max( history.history['val_auc'] ))\n",
    "    print('#### FOLD %i OOF AUC without TTA = %.3f, with TTA = %.3f'%(fold+1,oof_val[-1],auc))\n",
    "    \n",
    "    # PLOT TRAINING\n",
    "    if DISPLAY_PLOT:\n",
    "        plt.figure(figsize=(15,5))\n",
    "        plt.plot(np.arange(len(history.history['auc'])),history.history['auc'],'-o',label='Train auc',color='#ff7f0e')\n",
    "        plt.plot(np.arange(len(history.history['auc'])),history.history['val_auc'],'-o',label='Val auc',color='#1f77b4')\n",
    "        x = np.argmax( history.history['val_auc'] ); y = np.max( history.history['val_auc'] )\n",
    "        xdist = plt.xlim()[1] - plt.xlim()[0]; ydist = plt.ylim()[1] - plt.ylim()[0]\n",
    "        plt.scatter(x,y,s=200,color='#1f77b4'); plt.text(x-0.03*xdist,y-0.13*ydist,'max auc\\n%.2f'%y,size=14)\n",
    "        plt.ylabel('auc',size=14); plt.xlabel('Epoch',size=14)\n",
    "        plt.legend(loc=2)\n",
    "        plt2 = plt.gca().twinx()\n",
    "        plt2.plot(np.arange(len(history.history['auc'])),history.history['loss'],'-o',label='Train Loss',color='#2ca02c')\n",
    "        plt2.plot(np.arange(len(history.history['auc'])),history.history['val_loss'],'-o',label='Val Loss',color='#d62728')\n",
    "        x = np.argmin( history.history['val_loss'] ); y = np.min( history.history['val_loss'] )\n",
    "        ydist = plt.ylim()[1] - plt.ylim()[0]\n",
    "        plt.scatter(x,y,s=200,color='#d62728'); plt.text(x-0.03*xdist,y+0.05*ydist,'min loss',size=14)\n",
    "        plt.ylabel('Loss',size=14)\n",
    "        # plt.title('FOLD %i - Image Size (%i, %i), %s'%\n",
    "        #         (fold+1,IMG_SIZES[fold][0],IMG_SIZES[fold][1],EFNS[EFF_NETS[fold]].__name__),size=18)\n",
    "        plt.title('FOLD %i - Image Size (%i, %i), %s'%\n",
    "                (fold+1,IMG_SIZES[fold][0],IMG_SIZES[fold][1],MODEL_NAME),size=18)\n",
    "        plt.legend(loc=3)\n",
    "        plt.savefig(f'fig{fold}.png')\n",
    "        plt.show()"
   ],
   "outputs": [
    {
     "output_type": "stream",
     "name": "stdout",
     "text": [
      "#########################\n",
      "#### FOLD 1\n",
      "#### Image Size: (512, 512) | model: INC | batch_size 16\n",
      "#### Training: 5067 | Validation: 1267\n",
      "Successfully built and compiled model.\n",
      "#########################\n",
      "Training...\n"
     ]
    },
    {
     "output_type": "error",
     "ename": "InvalidArgumentError",
     "evalue": "`cycle_length` must be > 0 [Op:ParallelInterleaveDataset]",
     "traceback": [
      "\u001b[0;31m---------------------------------------------------------------------------\u001b[0m",
      "\u001b[0;31mInvalidArgumentError\u001b[0m                      Traceback (most recent call last)",
      "\u001b[0;32m<ipython-input-22-f69bd37124ab>\u001b[0m in \u001b[0;36m<module>\u001b[0;34m\u001b[0m\n\u001b[1;32m     38\u001b[0m     history = model.fit(\n\u001b[1;32m     39\u001b[0m         get_dataset(files_train, augment=AUGMENT, shuffle=True, repeat=True,\n\u001b[0;32m---> 40\u001b[0;31m                 dim=IMG_SIZES[fold], batch_size = BATCH_SIZES[fold]), \n\u001b[0m\u001b[1;32m     41\u001b[0m         \u001b[0mepochs\u001b[0m\u001b[0;34m=\u001b[0m\u001b[0mEPOCHS\u001b[0m\u001b[0;34m[\u001b[0m\u001b[0mfold\u001b[0m\u001b[0;34m]\u001b[0m\u001b[0;34m,\u001b[0m\u001b[0;34m\u001b[0m\u001b[0;34m\u001b[0m\u001b[0m\n\u001b[1;32m     42\u001b[0m         \u001b[0mcallbacks\u001b[0m \u001b[0;34m=\u001b[0m \u001b[0;34m[\u001b[0m\u001b[0msv\u001b[0m\u001b[0;34m,\u001b[0m\u001b[0mget_lr_callback\u001b[0m\u001b[0;34m(\u001b[0m\u001b[0mBATCH_SIZES\u001b[0m\u001b[0;34m[\u001b[0m\u001b[0mfold\u001b[0m\u001b[0;34m]\u001b[0m\u001b[0;34m)\u001b[0m\u001b[0;34m]\u001b[0m\u001b[0;34m,\u001b[0m\u001b[0;34m\u001b[0m\u001b[0;34m\u001b[0m\u001b[0m\n",
      "\u001b[0;32m<ipython-input-14-5e8ffae921c5>\u001b[0m in \u001b[0;36mget_dataset\u001b[0;34m(files, augment, shuffle, repeat, labeled, return_image_ids, batch_size, dim)\u001b[0m\n\u001b[1;32m      2\u001b[0m                 labeled=True, return_image_ids=True, batch_size=16, dim=IMG_SIZES[0]):\n\u001b[1;32m      3\u001b[0m \u001b[0;34m\u001b[0m\u001b[0m\n\u001b[0;32m----> 4\u001b[0;31m     \u001b[0mds\u001b[0m \u001b[0;34m=\u001b[0m \u001b[0mtf\u001b[0m\u001b[0;34m.\u001b[0m\u001b[0mdata\u001b[0m\u001b[0;34m.\u001b[0m\u001b[0mTFRecordDataset\u001b[0m\u001b[0;34m(\u001b[0m\u001b[0mfiles\u001b[0m\u001b[0;34m,\u001b[0m \u001b[0mnum_parallel_reads\u001b[0m\u001b[0;34m=\u001b[0m\u001b[0mAUTO\u001b[0m\u001b[0;34m)\u001b[0m\u001b[0;34m\u001b[0m\u001b[0;34m\u001b[0m\u001b[0m\n\u001b[0m\u001b[1;32m      5\u001b[0m     \u001b[0mds\u001b[0m \u001b[0;34m=\u001b[0m \u001b[0mds\u001b[0m\u001b[0;34m.\u001b[0m\u001b[0mcache\u001b[0m\u001b[0;34m(\u001b[0m\u001b[0;34m)\u001b[0m\u001b[0;34m\u001b[0m\u001b[0;34m\u001b[0m\u001b[0m\n\u001b[1;32m      6\u001b[0m \u001b[0;34m\u001b[0m\u001b[0m\n",
      "\u001b[0;32m~/miniconda3/envs/myconda/lib/python3.7/site-packages/tensorflow_core/python/data/ops/readers.py\u001b[0m in \u001b[0;36m__init__\u001b[0;34m(self, filenames, compression_type, buffer_size, num_parallel_reads)\u001b[0m\n\u001b[1;32m    302\u001b[0m \u001b[0;34m\u001b[0m\u001b[0m\n\u001b[1;32m    303\u001b[0m     self._impl = _create_dataset_reader(creator_fn, filenames,\n\u001b[0;32m--> 304\u001b[0;31m                                         num_parallel_reads)\n\u001b[0m\u001b[1;32m    305\u001b[0m     \u001b[0mvariant_tensor\u001b[0m \u001b[0;34m=\u001b[0m \u001b[0mself\u001b[0m\u001b[0;34m.\u001b[0m\u001b[0m_impl\u001b[0m\u001b[0;34m.\u001b[0m\u001b[0m_variant_tensor\u001b[0m  \u001b[0;31m# pylint: disable=protected-access\u001b[0m\u001b[0;34m\u001b[0m\u001b[0;34m\u001b[0m\u001b[0m\n\u001b[1;32m    306\u001b[0m     \u001b[0msuper\u001b[0m\u001b[0;34m(\u001b[0m\u001b[0mTFRecordDatasetV2\u001b[0m\u001b[0;34m,\u001b[0m \u001b[0mself\u001b[0m\u001b[0;34m)\u001b[0m\u001b[0;34m.\u001b[0m\u001b[0m__init__\u001b[0m\u001b[0;34m(\u001b[0m\u001b[0mvariant_tensor\u001b[0m\u001b[0;34m)\u001b[0m\u001b[0;34m\u001b[0m\u001b[0;34m\u001b[0m\u001b[0m\n",
      "\u001b[0;32m~/miniconda3/envs/myconda/lib/python3.7/site-packages/tensorflow_core/python/data/ops/readers.py\u001b[0m in \u001b[0;36m_create_dataset_reader\u001b[0;34m(dataset_creator, filenames, num_parallel_reads)\u001b[0m\n\u001b[1;32m     83\u001b[0m         \u001b[0mfilenames\u001b[0m\u001b[0;34m,\u001b[0m \u001b[0mread_one_file\u001b[0m\u001b[0;34m,\u001b[0m \u001b[0mcycle_length\u001b[0m\u001b[0;34m=\u001b[0m\u001b[0mnum_parallel_reads\u001b[0m\u001b[0;34m,\u001b[0m\u001b[0;34m\u001b[0m\u001b[0;34m\u001b[0m\u001b[0m\n\u001b[1;32m     84\u001b[0m         \u001b[0mblock_length\u001b[0m\u001b[0;34m=\u001b[0m\u001b[0;36m1\u001b[0m\u001b[0;34m,\u001b[0m \u001b[0msloppy\u001b[0m\u001b[0;34m=\u001b[0m\u001b[0;32mFalse\u001b[0m\u001b[0;34m,\u001b[0m \u001b[0mbuffer_output_elements\u001b[0m\u001b[0;34m=\u001b[0m\u001b[0;32mNone\u001b[0m\u001b[0;34m,\u001b[0m\u001b[0;34m\u001b[0m\u001b[0;34m\u001b[0m\u001b[0m\n\u001b[0;32m---> 85\u001b[0;31m         prefetch_input_elements=None)\n\u001b[0m\u001b[1;32m     86\u001b[0m \u001b[0;34m\u001b[0m\u001b[0m\n\u001b[1;32m     87\u001b[0m \u001b[0;34m\u001b[0m\u001b[0m\n",
      "\u001b[0;32m~/miniconda3/envs/myconda/lib/python3.7/site-packages/tensorflow_core/python/data/ops/readers.py\u001b[0m in \u001b[0;36m__init__\u001b[0;34m(self, input_dataset, map_func, cycle_length, block_length, sloppy, buffer_output_elements, prefetch_input_elements)\u001b[0m\n\u001b[1;32m    248\u001b[0m         \u001b[0mself\u001b[0m\u001b[0;34m.\u001b[0m\u001b[0m_prefetch_input_elements\u001b[0m\u001b[0;34m,\u001b[0m\u001b[0;34m\u001b[0m\u001b[0;34m\u001b[0m\u001b[0m\n\u001b[1;32m    249\u001b[0m         \u001b[0mf\u001b[0m\u001b[0;34m=\u001b[0m\u001b[0mself\u001b[0m\u001b[0;34m.\u001b[0m\u001b[0m_map_func\u001b[0m\u001b[0;34m.\u001b[0m\u001b[0mfunction\u001b[0m\u001b[0;34m,\u001b[0m\u001b[0;34m\u001b[0m\u001b[0;34m\u001b[0m\u001b[0m\n\u001b[0;32m--> 250\u001b[0;31m         **self._flat_structure)\n\u001b[0m\u001b[1;32m    251\u001b[0m     super(ParallelInterleaveDataset, self).__init__(input_dataset,\n\u001b[1;32m    252\u001b[0m                                                     variant_tensor)\n",
      "\u001b[0;32m~/miniconda3/envs/myconda/lib/python3.7/site-packages/tensorflow_core/python/ops/gen_experimental_dataset_ops.py\u001b[0m in \u001b[0;36mparallel_interleave_dataset\u001b[0;34m(input_dataset, other_arguments, cycle_length, block_length, sloppy, buffer_output_elements, prefetch_input_elements, f, output_types, output_shapes, name)\u001b[0m\n\u001b[1;32m   5976\u001b[0m       \u001b[0;32melse\u001b[0m\u001b[0;34m:\u001b[0m\u001b[0;34m\u001b[0m\u001b[0;34m\u001b[0m\u001b[0m\n\u001b[1;32m   5977\u001b[0m         \u001b[0mmessage\u001b[0m \u001b[0;34m=\u001b[0m \u001b[0me\u001b[0m\u001b[0;34m.\u001b[0m\u001b[0mmessage\u001b[0m\u001b[0;34m\u001b[0m\u001b[0;34m\u001b[0m\u001b[0m\n\u001b[0;32m-> 5978\u001b[0;31m       \u001b[0m_six\u001b[0m\u001b[0;34m.\u001b[0m\u001b[0mraise_from\u001b[0m\u001b[0;34m(\u001b[0m\u001b[0m_core\u001b[0m\u001b[0;34m.\u001b[0m\u001b[0m_status_to_exception\u001b[0m\u001b[0;34m(\u001b[0m\u001b[0me\u001b[0m\u001b[0;34m.\u001b[0m\u001b[0mcode\u001b[0m\u001b[0;34m,\u001b[0m \u001b[0mmessage\u001b[0m\u001b[0;34m)\u001b[0m\u001b[0;34m,\u001b[0m \u001b[0;32mNone\u001b[0m\u001b[0;34m)\u001b[0m\u001b[0;34m\u001b[0m\u001b[0;34m\u001b[0m\u001b[0m\n\u001b[0m\u001b[1;32m   5979\u001b[0m   \u001b[0;31m# Add nodes to the TensorFlow graph.\u001b[0m\u001b[0;34m\u001b[0m\u001b[0;34m\u001b[0m\u001b[0;34m\u001b[0m\u001b[0m\n\u001b[1;32m   5980\u001b[0m   \u001b[0;32mif\u001b[0m \u001b[0;32mnot\u001b[0m \u001b[0misinstance\u001b[0m\u001b[0;34m(\u001b[0m\u001b[0moutput_types\u001b[0m\u001b[0;34m,\u001b[0m \u001b[0;34m(\u001b[0m\u001b[0mlist\u001b[0m\u001b[0;34m,\u001b[0m \u001b[0mtuple\u001b[0m\u001b[0;34m)\u001b[0m\u001b[0;34m)\u001b[0m\u001b[0;34m:\u001b[0m\u001b[0;34m\u001b[0m\u001b[0;34m\u001b[0m\u001b[0m\n",
      "\u001b[0;32m~/miniconda3/envs/myconda/lib/python3.7/site-packages/six.py\u001b[0m in \u001b[0;36mraise_from\u001b[0;34m(value, from_value)\u001b[0m\n",
      "\u001b[0;31mInvalidArgumentError\u001b[0m: `cycle_length` must be > 0 [Op:ParallelInterleaveDataset]"
     ]
    }
   ],
   "metadata": {
    "_kg_hide-input": true,
    "execution": {
     "iopub.execute_input": "2021-06-04T08:38:29.841798Z",
     "iopub.status.busy": "2021-06-04T08:38:29.841089Z",
     "iopub.status.idle": "2021-06-04T09:48:52.384547Z",
     "shell.execute_reply": "2021-06-04T09:48:52.383958Z"
    },
    "papermill": {
     "duration": 4222.605127,
     "end_time": "2021-06-04T09:48:52.385689",
     "exception": false,
     "start_time": "2021-06-04T08:38:29.780562",
     "status": "completed"
    },
    "tags": []
   }
  },
  {
   "cell_type": "markdown",
   "source": [
    "## Calculate OOF AUC\n",
    "The **OOF** (out of fold) predictions are saved to disk. If you wish to ensemble multiple models, use the **OOF** to determine what are the best weights to blend your models with. Choose weights that maximize **OOF** `CV` score when used to blend **OOF**. Then use those same weights to blend your test predictions.\n",
    "\n",
    "**Remember**,\n",
    "* Don't do blending just to climb **LB**, because most of the time it ends up getting overfitted.\n",
    "* Try improving the **CV** by blending different model and you can keep an eye on the **LB**.\n",
    "* As only`20%` data will be used for calculating **LB** score, relying on **CV** should be a safe option"
   ],
   "metadata": {
    "papermill": {
     "duration": 0.097512,
     "end_time": "2021-06-04T09:48:52.581706",
     "exception": false,
     "start_time": "2021-06-04T09:48:52.484194",
     "status": "completed"
    },
    "tags": []
   }
  },
  {
   "cell_type": "code",
   "execution_count": null,
   "source": [
    "# COMPUTE OVERALL OOF AUC\n",
    "oof = np.concatenate(oof_pred); true = np.concatenate(oof_tar);\n",
    "ids = np.concatenate(oof_ids); folds = np.concatenate(oof_folds)\n",
    "auc = roc_auc_score(true,oof, average='macro')\n",
    "print('Overall OOF AUC with TTA = %.3f'%auc)\n",
    "\n",
    "# SAVE OOF TO DISK\n",
    "columns = ['image_id', 'fold']+[f'{idx}_true' for idx in range(4)] + [f'{idx}_pred' for idx in range(4)]\n",
    "df_oof = pd.DataFrame(np.concatenate([ids[:,None], folds[:, 0:1], true, oof], axis=1), columns=columns)\n",
    "df_oof.to_csv('oof.csv',index=False)\n",
    "df_oof.head()"
   ],
   "outputs": [],
   "metadata": {
    "execution": {
     "iopub.execute_input": "2021-06-04T09:48:52.793932Z",
     "iopub.status.busy": "2021-06-04T09:48:52.793238Z",
     "iopub.status.idle": "2021-06-04T09:48:52.945330Z",
     "shell.execute_reply": "2021-06-04T09:48:52.944651Z"
    },
    "papermill": {
     "duration": 0.26613,
     "end_time": "2021-06-04T09:48:52.945477",
     "exception": false,
     "start_time": "2021-06-04T09:48:52.679347",
     "status": "completed"
    },
    "tags": []
   }
  },
  {
   "cell_type": "markdown",
   "source": [
    "# Step 5: Post process\n",
    "There are ways to modify predictions based on patient information to increase **CV**-**LB**. You can experiment with that here on your **OOF**."
   ],
   "metadata": {
    "papermill": {
     "duration": 0.097976,
     "end_time": "2021-06-04T09:48:53.142475",
     "exception": false,
     "start_time": "2021-06-04T09:48:53.044499",
     "status": "completed"
    },
    "tags": []
   }
  },
  {
   "cell_type": "markdown",
   "source": [
    "# Submit To Kaggle"
   ],
   "metadata": {
    "papermill": {
     "duration": 0.098502,
     "end_time": "2021-06-04T09:48:53.339169",
     "exception": false,
     "start_time": "2021-06-04T09:48:53.240667",
     "status": "completed"
    },
    "tags": []
   }
  },
  {
   "cell_type": "code",
   "execution_count": null,
   "source": [
    "# ds = get_dataset(files_test, augment=False, repeat=False, dim=IMG_SIZES[fold],\n",
    "#                  labeled=False, return_image_ids=True)\n",
    "\n",
    "# image_ids = np.array([img_id.numpy().decode(\"utf-8\") \n",
    "#                         for img, img_id in iter(ds.unbatch())])"
   ],
   "outputs": [],
   "metadata": {
    "execution": {
     "iopub.execute_input": "2021-06-04T09:48:53.546352Z",
     "iopub.status.busy": "2021-06-04T09:48:53.545275Z",
     "iopub.status.idle": "2021-06-04T09:48:53.548448Z",
     "shell.execute_reply": "2021-06-04T09:48:53.547903Z"
    },
    "papermill": {
     "duration": 0.105751,
     "end_time": "2021-06-04T09:48:53.548587",
     "exception": false,
     "start_time": "2021-06-04T09:48:53.442836",
     "status": "completed"
    },
    "tags": []
   }
  },
  {
   "cell_type": "code",
   "execution_count": null,
   "source": [
    "# submission = pd.DataFrame({'id':image_ids, 'target':preds[:,0]})\n",
    "# submission = submission.sort_values('id') \n",
    "# submission.to_csv('submission.csv', index=False)\n",
    "# submission.head()"
   ],
   "outputs": [],
   "metadata": {
    "execution": {
     "iopub.execute_input": "2021-06-04T09:48:53.749844Z",
     "iopub.status.busy": "2021-06-04T09:48:53.749050Z",
     "iopub.status.idle": "2021-06-04T09:48:53.752243Z",
     "shell.execute_reply": "2021-06-04T09:48:53.752790Z"
    },
    "papermill": {
     "duration": 0.105282,
     "end_time": "2021-06-04T09:48:53.753007",
     "exception": false,
     "start_time": "2021-06-04T09:48:53.647725",
     "status": "completed"
    },
    "tags": []
   }
  },
  {
   "cell_type": "markdown",
   "source": [
    "# Prediction Distribution"
   ],
   "metadata": {
    "papermill": {
     "duration": 0.098059,
     "end_time": "2021-06-04T09:48:53.952627",
     "exception": false,
     "start_time": "2021-06-04T09:48:53.854568",
     "status": "completed"
    },
    "tags": []
   }
  },
  {
   "cell_type": "code",
   "execution_count": null,
   "source": [
    "# plt.figure(figsize=(10,5))\n",
    "# plt.hist(submission.target,bins=100);"
   ],
   "outputs": [],
   "metadata": {
    "execution": {
     "iopub.execute_input": "2021-06-04T09:48:54.155088Z",
     "iopub.status.busy": "2021-06-04T09:48:54.154443Z",
     "iopub.status.idle": "2021-06-04T09:48:54.159385Z",
     "shell.execute_reply": "2021-06-04T09:48:54.158756Z"
    },
    "papermill": {
     "duration": 0.106534,
     "end_time": "2021-06-04T09:48:54.159522",
     "exception": false,
     "start_time": "2021-06-04T09:48:54.052988",
     "status": "completed"
    },
    "tags": []
   }
  },
  {
   "cell_type": "markdown",
   "source": [
    "# Reference\n",
    "* Please Check this amazing notebook, [Triple Stratified KFold with TFRecords](https://www.kaggle.com/cdeotte/triple-stratified-kfold-with-tfrecords) by [Chris Deotte](https://www.kaggle.com/cdeotte)\n"
   ],
   "metadata": {
    "papermill": {
     "duration": 0.098459,
     "end_time": "2021-06-04T09:48:54.357334",
     "exception": false,
     "start_time": "2021-06-04T09:48:54.258875",
     "status": "completed"
    },
    "tags": []
   }
  },
  {
   "cell_type": "markdown",
   "source": [
    "# Please **Upvote** if you find this helpful 👽"
   ],
   "metadata": {
    "papermill": {
     "duration": 0.098476,
     "end_time": "2021-06-04T09:48:54.555629",
     "exception": false,
     "start_time": "2021-06-04T09:48:54.457153",
     "status": "completed"
    },
    "tags": []
   }
  }
 ],
 "metadata": {
  "kernelspec": {
   "name": "python3",
   "display_name": "Python 3.7.6 64-bit ('base': conda)"
  },
  "language_info": {
   "name": "python",
   "version": "3.7.6",
   "mimetype": "text/x-python",
   "codemirror_mode": {
    "name": "ipython",
    "version": 3
   },
   "pygments_lexer": "ipython3",
   "nbconvert_exporter": "python",
   "file_extension": ".py"
  },
  "papermill": {
   "default_parameters": {},
   "duration": 4274.486899,
   "end_time": "2021-06-04T09:48:57.367381",
   "environment_variables": {},
   "exception": null,
   "input_path": "__notebook__.ipynb",
   "output_path": "__notebook__.ipynb",
   "parameters": {},
   "start_time": "2021-06-04T08:37:42.880482",
   "version": "2.3.3"
  },
  "interpreter": {
   "hash": "d92835af267f429f30bd9d9d5f3cd52063e0ca033b4a27de3ed439288b8f7359"
  }
 },
 "nbformat": 4,
 "nbformat_minor": 5
}